{
 "cells": [
  {
   "cell_type": "markdown",
   "metadata": {
    "deletable": false,
    "editable": false,
    "id": "E0vqbgi9ay0H"
   },
   "source": [
    "# Яндекс Музыка"
   ]
  },
  {
   "cell_type": "markdown",
   "metadata": {
    "deletable": false,
    "editable": false,
    "id": "VUC88oWjTJw2"
   },
   "source": [
    "Сравнение Москвы и Петербурга окружено мифами. Например:\n",
    " * Москва — мегаполис, подчинённый жёсткому ритму рабочей недели;\n",
    " * Петербург — культурная столица, со своими вкусами.\n",
    "\n",
    "На данных Яндекс Музыки вы сравните поведение пользователей двух столиц.\n",
    "\n",
    "**Цель исследования** — проверьте три гипотезы:\n",
    "1. Активность пользователей зависит от дня недели. Причём в Москве и Петербурге это проявляется по-разному.\n",
    "2. В понедельник утром в Москве преобладают одни жанры, а в Петербурге — другие. Так же и вечером пятницы преобладают разные жанры — в зависимости от города.\n",
    "3. Москва и Петербург предпочитают разные жанры музыки. В Москве чаще слушают поп-музыку, в Петербурге — русский рэп.\n",
    "\n",
    "**Ход исследования**\n",
    "\n",
    "Данные о поведении пользователей вы получите из файла `yandex_music_project.csv`. О качестве данных ничего не известно. Поэтому перед проверкой гипотез понадобится обзор данных.\n",
    "\n",
    "Вы проверите данные на ошибки и оцените их влияние на исследование. Затем, на этапе предобработки вы поищете возможность исправить самые критичные ошибки данных.\n",
    "\n",
    "Таким образом, исследование пройдёт в три этапа:\n",
    " 1. Обзор данных.\n",
    " 2. Предобработка данных.\n",
    " 3. Проверка гипотез.\n",
    "\n"
   ]
  },
  {
   "cell_type": "markdown",
   "metadata": {
    "deletable": false,
    "editable": false,
    "id": "Ml1hmfXC_Zcs"
   },
   "source": [
    "## Обзор данных\n",
    "\n",
    "Составьте первое представление о данных Яндекс Музыки.\n",
    "\n",
    "\n"
   ]
  },
  {
   "cell_type": "markdown",
   "metadata": {
    "deletable": false,
    "editable": false,
    "id": "57eAOGIz_Zcs",
    "tags": [
     "start_task"
    ]
   },
   "source": [
    "**Задание 1**"
   ]
  },
  {
   "cell_type": "code",
   "execution_count": 39,
   "metadata": {
    "deletable": false,
    "id": "AXN7PHPN_Zcs"
   },
   "outputs": [],
   "source": [
    "# импорт библиотеки pandas\n",
    "import pandas as pd"
   ]
  },
  {
   "cell_type": "markdown",
   "metadata": {
    "deletable": false,
    "editable": false,
    "id": "SG23P8tt_Zcs",
    "tags": [
     "start_task"
    ]
   },
   "source": [
    "**Задание 2**"
   ]
  },
  {
   "cell_type": "code",
   "execution_count": 40,
   "metadata": {
    "deletable": false,
    "id": "fFVu7vqh_Zct"
   },
   "outputs": [
    {
     "data": {
      "text/html": [
       "<div>\n",
       "<style scoped>\n",
       "    .dataframe tbody tr th:only-of-type {\n",
       "        vertical-align: middle;\n",
       "    }\n",
       "\n",
       "    .dataframe tbody tr th {\n",
       "        vertical-align: top;\n",
       "    }\n",
       "\n",
       "    .dataframe thead th {\n",
       "        text-align: right;\n",
       "    }\n",
       "</style>\n",
       "<table border=\"1\" class=\"dataframe\">\n",
       "  <thead>\n",
       "    <tr style=\"text-align: right;\">\n",
       "      <th></th>\n",
       "      <th>userID</th>\n",
       "      <th>Track</th>\n",
       "      <th>artist</th>\n",
       "      <th>genre</th>\n",
       "      <th>City</th>\n",
       "      <th>time</th>\n",
       "      <th>Day</th>\n",
       "    </tr>\n",
       "  </thead>\n",
       "  <tbody>\n",
       "    <tr>\n",
       "      <th>0</th>\n",
       "      <td>FFB692EC</td>\n",
       "      <td>Kamigata To Boots</td>\n",
       "      <td>The Mass Missile</td>\n",
       "      <td>rock</td>\n",
       "      <td>Saint-Petersburg</td>\n",
       "      <td>20:28:33</td>\n",
       "      <td>Wednesday</td>\n",
       "    </tr>\n",
       "    <tr>\n",
       "      <th>1</th>\n",
       "      <td>55204538</td>\n",
       "      <td>Delayed Because of Accident</td>\n",
       "      <td>Andreas Rönnberg</td>\n",
       "      <td>rock</td>\n",
       "      <td>Moscow</td>\n",
       "      <td>14:07:09</td>\n",
       "      <td>Friday</td>\n",
       "    </tr>\n",
       "    <tr>\n",
       "      <th>2</th>\n",
       "      <td>20EC38</td>\n",
       "      <td>Funiculì funiculà</td>\n",
       "      <td>Mario Lanza</td>\n",
       "      <td>pop</td>\n",
       "      <td>Saint-Petersburg</td>\n",
       "      <td>20:58:07</td>\n",
       "      <td>Wednesday</td>\n",
       "    </tr>\n",
       "    <tr>\n",
       "      <th>3</th>\n",
       "      <td>A3DD03C9</td>\n",
       "      <td>Dragons in the Sunset</td>\n",
       "      <td>Fire + Ice</td>\n",
       "      <td>folk</td>\n",
       "      <td>Saint-Petersburg</td>\n",
       "      <td>08:37:09</td>\n",
       "      <td>Monday</td>\n",
       "    </tr>\n",
       "    <tr>\n",
       "      <th>4</th>\n",
       "      <td>E2DC1FAE</td>\n",
       "      <td>Soul People</td>\n",
       "      <td>Space Echo</td>\n",
       "      <td>dance</td>\n",
       "      <td>Moscow</td>\n",
       "      <td>08:34:34</td>\n",
       "      <td>Monday</td>\n",
       "    </tr>\n",
       "    <tr>\n",
       "      <th>...</th>\n",
       "      <td>...</td>\n",
       "      <td>...</td>\n",
       "      <td>...</td>\n",
       "      <td>...</td>\n",
       "      <td>...</td>\n",
       "      <td>...</td>\n",
       "      <td>...</td>\n",
       "    </tr>\n",
       "    <tr>\n",
       "      <th>65074</th>\n",
       "      <td>729CBB09</td>\n",
       "      <td>My Name</td>\n",
       "      <td>McLean</td>\n",
       "      <td>rnb</td>\n",
       "      <td>Moscow</td>\n",
       "      <td>13:32:28</td>\n",
       "      <td>Wednesday</td>\n",
       "    </tr>\n",
       "    <tr>\n",
       "      <th>65075</th>\n",
       "      <td>D08D4A55</td>\n",
       "      <td>Maybe One Day (feat. Black Spade)</td>\n",
       "      <td>Blu &amp; Exile</td>\n",
       "      <td>hip</td>\n",
       "      <td>Saint-Petersburg</td>\n",
       "      <td>10:00:00</td>\n",
       "      <td>Monday</td>\n",
       "    </tr>\n",
       "    <tr>\n",
       "      <th>65076</th>\n",
       "      <td>C5E3A0D5</td>\n",
       "      <td>Jalopiina</td>\n",
       "      <td>NaN</td>\n",
       "      <td>industrial</td>\n",
       "      <td>Moscow</td>\n",
       "      <td>20:09:26</td>\n",
       "      <td>Friday</td>\n",
       "    </tr>\n",
       "    <tr>\n",
       "      <th>65077</th>\n",
       "      <td>321D0506</td>\n",
       "      <td>Freight Train</td>\n",
       "      <td>Chas McDevitt</td>\n",
       "      <td>rock</td>\n",
       "      <td>Moscow</td>\n",
       "      <td>21:43:59</td>\n",
       "      <td>Friday</td>\n",
       "    </tr>\n",
       "    <tr>\n",
       "      <th>65078</th>\n",
       "      <td>3A64EF84</td>\n",
       "      <td>Tell Me Sweet Little Lies</td>\n",
       "      <td>Monica Lopez</td>\n",
       "      <td>country</td>\n",
       "      <td>Moscow</td>\n",
       "      <td>21:59:46</td>\n",
       "      <td>Friday</td>\n",
       "    </tr>\n",
       "  </tbody>\n",
       "</table>\n",
       "<p>65079 rows × 7 columns</p>\n",
       "</div>"
      ],
      "text/plain": [
       "         userID                              Track            artist  \\\n",
       "0      FFB692EC                  Kamigata To Boots  The Mass Missile   \n",
       "1      55204538        Delayed Because of Accident  Andreas Rönnberg   \n",
       "2        20EC38                  Funiculì funiculà       Mario Lanza   \n",
       "3      A3DD03C9              Dragons in the Sunset        Fire + Ice   \n",
       "4      E2DC1FAE                        Soul People        Space Echo   \n",
       "...         ...                                ...               ...   \n",
       "65074  729CBB09                            My Name            McLean   \n",
       "65075  D08D4A55  Maybe One Day (feat. Black Spade)       Blu & Exile   \n",
       "65076  C5E3A0D5                          Jalopiina               NaN   \n",
       "65077  321D0506                      Freight Train     Chas McDevitt   \n",
       "65078  3A64EF84          Tell Me Sweet Little Lies      Monica Lopez   \n",
       "\n",
       "            genre            City        time        Day  \n",
       "0            rock  Saint-Petersburg  20:28:33  Wednesday  \n",
       "1            rock            Moscow  14:07:09     Friday  \n",
       "2             pop  Saint-Petersburg  20:58:07  Wednesday  \n",
       "3            folk  Saint-Petersburg  08:37:09     Monday  \n",
       "4           dance            Moscow  08:34:34     Monday  \n",
       "...           ...               ...       ...        ...  \n",
       "65074         rnb            Moscow  13:32:28  Wednesday  \n",
       "65075         hip  Saint-Petersburg  10:00:00     Monday  \n",
       "65076  industrial            Moscow  20:09:26     Friday  \n",
       "65077        rock            Moscow  21:43:59     Friday  \n",
       "65078     country            Moscow  21:59:46     Friday  \n",
       "\n",
       "[65079 rows x 7 columns]"
      ]
     },
     "execution_count": 40,
     "metadata": {},
     "output_type": "execute_result"
    }
   ],
   "source": [
    "# чтение файла с данными и сохранение в df\n",
    "df = pd.read_csv('/datasets/yandex_music_project.csv')\n",
    "df"
   ]
  },
  {
   "cell_type": "markdown",
   "metadata": {
    "deletable": false,
    "editable": false,
    "id": "rDoOMd3uTqnZ",
    "tags": [
     "start_task"
    ]
   },
   "source": [
    "**Задание 3**"
   ]
  },
  {
   "cell_type": "code",
   "execution_count": 41,
   "metadata": {
    "deletable": false,
    "id": "oWTVX3gW_Zct"
   },
   "outputs": [
    {
     "data": {
      "text/html": [
       "<div>\n",
       "<style scoped>\n",
       "    .dataframe tbody tr th:only-of-type {\n",
       "        vertical-align: middle;\n",
       "    }\n",
       "\n",
       "    .dataframe tbody tr th {\n",
       "        vertical-align: top;\n",
       "    }\n",
       "\n",
       "    .dataframe thead th {\n",
       "        text-align: right;\n",
       "    }\n",
       "</style>\n",
       "<table border=\"1\" class=\"dataframe\">\n",
       "  <thead>\n",
       "    <tr style=\"text-align: right;\">\n",
       "      <th></th>\n",
       "      <th>userID</th>\n",
       "      <th>Track</th>\n",
       "      <th>artist</th>\n",
       "      <th>genre</th>\n",
       "      <th>City</th>\n",
       "      <th>time</th>\n",
       "      <th>Day</th>\n",
       "    </tr>\n",
       "  </thead>\n",
       "  <tbody>\n",
       "    <tr>\n",
       "      <th>0</th>\n",
       "      <td>FFB692EC</td>\n",
       "      <td>Kamigata To Boots</td>\n",
       "      <td>The Mass Missile</td>\n",
       "      <td>rock</td>\n",
       "      <td>Saint-Petersburg</td>\n",
       "      <td>20:28:33</td>\n",
       "      <td>Wednesday</td>\n",
       "    </tr>\n",
       "    <tr>\n",
       "      <th>1</th>\n",
       "      <td>55204538</td>\n",
       "      <td>Delayed Because of Accident</td>\n",
       "      <td>Andreas Rönnberg</td>\n",
       "      <td>rock</td>\n",
       "      <td>Moscow</td>\n",
       "      <td>14:07:09</td>\n",
       "      <td>Friday</td>\n",
       "    </tr>\n",
       "    <tr>\n",
       "      <th>2</th>\n",
       "      <td>20EC38</td>\n",
       "      <td>Funiculì funiculà</td>\n",
       "      <td>Mario Lanza</td>\n",
       "      <td>pop</td>\n",
       "      <td>Saint-Petersburg</td>\n",
       "      <td>20:58:07</td>\n",
       "      <td>Wednesday</td>\n",
       "    </tr>\n",
       "    <tr>\n",
       "      <th>3</th>\n",
       "      <td>A3DD03C9</td>\n",
       "      <td>Dragons in the Sunset</td>\n",
       "      <td>Fire + Ice</td>\n",
       "      <td>folk</td>\n",
       "      <td>Saint-Petersburg</td>\n",
       "      <td>08:37:09</td>\n",
       "      <td>Monday</td>\n",
       "    </tr>\n",
       "    <tr>\n",
       "      <th>4</th>\n",
       "      <td>E2DC1FAE</td>\n",
       "      <td>Soul People</td>\n",
       "      <td>Space Echo</td>\n",
       "      <td>dance</td>\n",
       "      <td>Moscow</td>\n",
       "      <td>08:34:34</td>\n",
       "      <td>Monday</td>\n",
       "    </tr>\n",
       "    <tr>\n",
       "      <th>5</th>\n",
       "      <td>842029A1</td>\n",
       "      <td>Преданная</td>\n",
       "      <td>IMPERVTOR</td>\n",
       "      <td>rusrap</td>\n",
       "      <td>Saint-Petersburg</td>\n",
       "      <td>13:09:41</td>\n",
       "      <td>Friday</td>\n",
       "    </tr>\n",
       "    <tr>\n",
       "      <th>6</th>\n",
       "      <td>4CB90AA5</td>\n",
       "      <td>True</td>\n",
       "      <td>Roman Messer</td>\n",
       "      <td>dance</td>\n",
       "      <td>Moscow</td>\n",
       "      <td>13:00:07</td>\n",
       "      <td>Wednesday</td>\n",
       "    </tr>\n",
       "    <tr>\n",
       "      <th>7</th>\n",
       "      <td>F03E1C1F</td>\n",
       "      <td>Feeling This Way</td>\n",
       "      <td>Polina Griffith</td>\n",
       "      <td>dance</td>\n",
       "      <td>Moscow</td>\n",
       "      <td>20:47:49</td>\n",
       "      <td>Wednesday</td>\n",
       "    </tr>\n",
       "    <tr>\n",
       "      <th>8</th>\n",
       "      <td>8FA1D3BE</td>\n",
       "      <td>И вновь продолжается бой</td>\n",
       "      <td>NaN</td>\n",
       "      <td>ruspop</td>\n",
       "      <td>Moscow</td>\n",
       "      <td>09:17:40</td>\n",
       "      <td>Friday</td>\n",
       "    </tr>\n",
       "    <tr>\n",
       "      <th>9</th>\n",
       "      <td>E772D5C0</td>\n",
       "      <td>Pessimist</td>\n",
       "      <td>NaN</td>\n",
       "      <td>dance</td>\n",
       "      <td>Saint-Petersburg</td>\n",
       "      <td>21:20:49</td>\n",
       "      <td>Wednesday</td>\n",
       "    </tr>\n",
       "  </tbody>\n",
       "</table>\n",
       "</div>"
      ],
      "text/plain": [
       "     userID                        Track            artist   genre  \\\n",
       "0  FFB692EC            Kamigata To Boots  The Mass Missile    rock   \n",
       "1  55204538  Delayed Because of Accident  Andreas Rönnberg    rock   \n",
       "2    20EC38            Funiculì funiculà       Mario Lanza     pop   \n",
       "3  A3DD03C9        Dragons in the Sunset        Fire + Ice    folk   \n",
       "4  E2DC1FAE                  Soul People        Space Echo   dance   \n",
       "5  842029A1                    Преданная         IMPERVTOR  rusrap   \n",
       "6  4CB90AA5                         True      Roman Messer   dance   \n",
       "7  F03E1C1F             Feeling This Way   Polina Griffith   dance   \n",
       "8  8FA1D3BE     И вновь продолжается бой               NaN  ruspop   \n",
       "9  E772D5C0                    Pessimist               NaN   dance   \n",
       "\n",
       "             City        time        Day  \n",
       "0  Saint-Petersburg  20:28:33  Wednesday  \n",
       "1            Moscow  14:07:09     Friday  \n",
       "2  Saint-Petersburg  20:58:07  Wednesday  \n",
       "3  Saint-Petersburg  08:37:09     Monday  \n",
       "4            Moscow  08:34:34     Monday  \n",
       "5  Saint-Petersburg  13:09:41     Friday  \n",
       "6            Moscow  13:00:07  Wednesday  \n",
       "7            Moscow  20:47:49  Wednesday  \n",
       "8            Moscow  09:17:40     Friday  \n",
       "9  Saint-Petersburg  21:20:49  Wednesday  "
      ]
     },
     "execution_count": 41,
     "metadata": {},
     "output_type": "execute_result"
    }
   ],
   "source": [
    "# получение первых 10 строк таблицы df\n",
    "df.head(10)"
   ]
  },
  {
   "cell_type": "markdown",
   "metadata": {
    "deletable": false,
    "editable": false,
    "id": "EO73Kwic_Zct",
    "tags": [
     "start_task"
    ]
   },
   "source": [
    "**Задание 4**"
   ]
  },
  {
   "cell_type": "code",
   "execution_count": 42,
   "metadata": {
    "deletable": false,
    "id": "DSf2kIb-_Zct"
   },
   "outputs": [
    {
     "name": "stdout",
     "output_type": "stream",
     "text": [
      "<class 'pandas.core.frame.DataFrame'>\n",
      "RangeIndex: 65079 entries, 0 to 65078\n",
      "Data columns (total 7 columns):\n",
      " #   Column    Non-Null Count  Dtype \n",
      "---  ------    --------------  ----- \n",
      " 0     userID  65079 non-null  object\n",
      " 1   Track     63848 non-null  object\n",
      " 2   artist    57876 non-null  object\n",
      " 3   genre     63881 non-null  object\n",
      " 4     City    65079 non-null  object\n",
      " 5   time      65079 non-null  object\n",
      " 6   Day       65079 non-null  object\n",
      "dtypes: object(7)\n",
      "memory usage: 3.5+ MB\n"
     ]
    }
   ],
   "source": [
    "# получение общей информации о данных в таблице df\n",
    "df.info()"
   ]
  },
  {
   "cell_type": "markdown",
   "metadata": {
    "deletable": false,
    "editable": false,
    "id": "TaQ2Iwbr_Zct"
   },
   "source": [
    "Количество значений в столбцах различается. Значит, в данных есть пропущенные значения."
   ]
  },
  {
   "cell_type": "markdown",
   "metadata": {
    "deletable": false,
    "editable": false,
    "id": "4P0UCWzswgEm",
    "tags": [
     "start_task"
    ]
   },
   "source": [
    "**Задание 5**"
   ]
  },
  {
   "cell_type": "markdown",
   "metadata": {
    "deletable": false,
    "editable": false,
    "id": "MCB6-dXG_Zct"
   },
   "source": [
    "**Выводы**\n",
    "\n",
    "В каждой строке таблицы — данные о прослушанном треке. Часть колонок описывает саму композицию: название, исполнителя и жанр. Остальные данные рассказывают о пользователе: из какого он города, когда он слушал музыку.\n",
    "\n",
    "Предварительно можно утверждать, что данных достаточно для проверки гипотез. Но встречаются пропуски в данных, а в названиях колонок — расхождения с хорошим стилем.\n",
    "\n",
    "Чтобы двигаться дальше, нужно устранить проблемы в данных."
   ]
  },
  {
   "cell_type": "markdown",
   "metadata": {
    "deletable": false,
    "editable": false,
    "id": "SjYF6Ub9_Zct"
   },
   "source": [
    "## Предобработка данных"
   ]
  },
  {
   "cell_type": "markdown",
   "metadata": {
    "deletable": false,
    "editable": false,
    "id": "dIaKXr29_Zct",
    "tags": [
     "start_task"
    ]
   },
   "source": [
    "### Переименование столбцов\n",
    "\n",
    "**Задание 6**"
   ]
  },
  {
   "cell_type": "code",
   "execution_count": 43,
   "metadata": {
    "deletable": false,
    "id": "oKOTdF_Q_Zct"
   },
   "outputs": [
    {
     "data": {
      "text/plain": [
       "Index(['  userID', 'Track', 'artist', 'genre', '  City  ', 'time', 'Day'], dtype='object')"
      ]
     },
     "execution_count": 43,
     "metadata": {},
     "output_type": "execute_result"
    }
   ],
   "source": [
    "# перечень названий столбцов таблицы df\n",
    "df.columns"
   ]
  },
  {
   "cell_type": "markdown",
   "metadata": {
    "deletable": false,
    "editable": false,
    "id": "zj5534cv_Zct",
    "tags": [
     "start_task"
    ]
   },
   "source": [
    "**Задание 7**"
   ]
  },
  {
   "cell_type": "code",
   "execution_count": 44,
   "metadata": {
    "deletable": false,
    "id": "ISlFqs5y_Zct"
   },
   "outputs": [],
   "source": [
    "# переименование столбцов\n",
    "df = df.rename(columns={'  userID': 'user_id', 'Track': 'track', '  City  ': 'city', 'Day': 'day'})"
   ]
  },
  {
   "cell_type": "markdown",
   "metadata": {
    "deletable": false,
    "editable": false,
    "id": "1dqbh00J_Zct",
    "tags": [
     "start_task"
    ]
   },
   "source": [
    "**Задание 8**"
   ]
  },
  {
   "cell_type": "code",
   "execution_count": 45,
   "metadata": {
    "deletable": false,
    "id": "d4NOAmTW_Zct"
   },
   "outputs": [
    {
     "data": {
      "text/html": [
       "<div>\n",
       "<style scoped>\n",
       "    .dataframe tbody tr th:only-of-type {\n",
       "        vertical-align: middle;\n",
       "    }\n",
       "\n",
       "    .dataframe tbody tr th {\n",
       "        vertical-align: top;\n",
       "    }\n",
       "\n",
       "    .dataframe thead th {\n",
       "        text-align: right;\n",
       "    }\n",
       "</style>\n",
       "<table border=\"1\" class=\"dataframe\">\n",
       "  <thead>\n",
       "    <tr style=\"text-align: right;\">\n",
       "      <th></th>\n",
       "      <th>user_id</th>\n",
       "      <th>track</th>\n",
       "      <th>artist</th>\n",
       "      <th>genre</th>\n",
       "      <th>city</th>\n",
       "      <th>time</th>\n",
       "      <th>day</th>\n",
       "    </tr>\n",
       "  </thead>\n",
       "  <tbody>\n",
       "    <tr>\n",
       "      <th>0</th>\n",
       "      <td>FFB692EC</td>\n",
       "      <td>Kamigata To Boots</td>\n",
       "      <td>The Mass Missile</td>\n",
       "      <td>rock</td>\n",
       "      <td>Saint-Petersburg</td>\n",
       "      <td>20:28:33</td>\n",
       "      <td>Wednesday</td>\n",
       "    </tr>\n",
       "    <tr>\n",
       "      <th>1</th>\n",
       "      <td>55204538</td>\n",
       "      <td>Delayed Because of Accident</td>\n",
       "      <td>Andreas Rönnberg</td>\n",
       "      <td>rock</td>\n",
       "      <td>Moscow</td>\n",
       "      <td>14:07:09</td>\n",
       "      <td>Friday</td>\n",
       "    </tr>\n",
       "    <tr>\n",
       "      <th>2</th>\n",
       "      <td>20EC38</td>\n",
       "      <td>Funiculì funiculà</td>\n",
       "      <td>Mario Lanza</td>\n",
       "      <td>pop</td>\n",
       "      <td>Saint-Petersburg</td>\n",
       "      <td>20:58:07</td>\n",
       "      <td>Wednesday</td>\n",
       "    </tr>\n",
       "    <tr>\n",
       "      <th>3</th>\n",
       "      <td>A3DD03C9</td>\n",
       "      <td>Dragons in the Sunset</td>\n",
       "      <td>Fire + Ice</td>\n",
       "      <td>folk</td>\n",
       "      <td>Saint-Petersburg</td>\n",
       "      <td>08:37:09</td>\n",
       "      <td>Monday</td>\n",
       "    </tr>\n",
       "    <tr>\n",
       "      <th>4</th>\n",
       "      <td>E2DC1FAE</td>\n",
       "      <td>Soul People</td>\n",
       "      <td>Space Echo</td>\n",
       "      <td>dance</td>\n",
       "      <td>Moscow</td>\n",
       "      <td>08:34:34</td>\n",
       "      <td>Monday</td>\n",
       "    </tr>\n",
       "    <tr>\n",
       "      <th>...</th>\n",
       "      <td>...</td>\n",
       "      <td>...</td>\n",
       "      <td>...</td>\n",
       "      <td>...</td>\n",
       "      <td>...</td>\n",
       "      <td>...</td>\n",
       "      <td>...</td>\n",
       "    </tr>\n",
       "    <tr>\n",
       "      <th>65074</th>\n",
       "      <td>729CBB09</td>\n",
       "      <td>My Name</td>\n",
       "      <td>McLean</td>\n",
       "      <td>rnb</td>\n",
       "      <td>Moscow</td>\n",
       "      <td>13:32:28</td>\n",
       "      <td>Wednesday</td>\n",
       "    </tr>\n",
       "    <tr>\n",
       "      <th>65075</th>\n",
       "      <td>D08D4A55</td>\n",
       "      <td>Maybe One Day (feat. Black Spade)</td>\n",
       "      <td>Blu &amp; Exile</td>\n",
       "      <td>hip</td>\n",
       "      <td>Saint-Petersburg</td>\n",
       "      <td>10:00:00</td>\n",
       "      <td>Monday</td>\n",
       "    </tr>\n",
       "    <tr>\n",
       "      <th>65076</th>\n",
       "      <td>C5E3A0D5</td>\n",
       "      <td>Jalopiina</td>\n",
       "      <td>NaN</td>\n",
       "      <td>industrial</td>\n",
       "      <td>Moscow</td>\n",
       "      <td>20:09:26</td>\n",
       "      <td>Friday</td>\n",
       "    </tr>\n",
       "    <tr>\n",
       "      <th>65077</th>\n",
       "      <td>321D0506</td>\n",
       "      <td>Freight Train</td>\n",
       "      <td>Chas McDevitt</td>\n",
       "      <td>rock</td>\n",
       "      <td>Moscow</td>\n",
       "      <td>21:43:59</td>\n",
       "      <td>Friday</td>\n",
       "    </tr>\n",
       "    <tr>\n",
       "      <th>65078</th>\n",
       "      <td>3A64EF84</td>\n",
       "      <td>Tell Me Sweet Little Lies</td>\n",
       "      <td>Monica Lopez</td>\n",
       "      <td>country</td>\n",
       "      <td>Moscow</td>\n",
       "      <td>21:59:46</td>\n",
       "      <td>Friday</td>\n",
       "    </tr>\n",
       "  </tbody>\n",
       "</table>\n",
       "<p>65079 rows × 7 columns</p>\n",
       "</div>"
      ],
      "text/plain": [
       "        user_id                              track            artist  \\\n",
       "0      FFB692EC                  Kamigata To Boots  The Mass Missile   \n",
       "1      55204538        Delayed Because of Accident  Andreas Rönnberg   \n",
       "2        20EC38                  Funiculì funiculà       Mario Lanza   \n",
       "3      A3DD03C9              Dragons in the Sunset        Fire + Ice   \n",
       "4      E2DC1FAE                        Soul People        Space Echo   \n",
       "...         ...                                ...               ...   \n",
       "65074  729CBB09                            My Name            McLean   \n",
       "65075  D08D4A55  Maybe One Day (feat. Black Spade)       Blu & Exile   \n",
       "65076  C5E3A0D5                          Jalopiina               NaN   \n",
       "65077  321D0506                      Freight Train     Chas McDevitt   \n",
       "65078  3A64EF84          Tell Me Sweet Little Lies      Monica Lopez   \n",
       "\n",
       "            genre              city      time        day  \n",
       "0            rock  Saint-Petersburg  20:28:33  Wednesday  \n",
       "1            rock            Moscow  14:07:09     Friday  \n",
       "2             pop  Saint-Petersburg  20:58:07  Wednesday  \n",
       "3            folk  Saint-Petersburg  08:37:09     Monday  \n",
       "4           dance            Moscow  08:34:34     Monday  \n",
       "...           ...               ...       ...        ...  \n",
       "65074         rnb            Moscow  13:32:28  Wednesday  \n",
       "65075         hip  Saint-Petersburg  10:00:00     Monday  \n",
       "65076  industrial            Moscow  20:09:26     Friday  \n",
       "65077        rock            Moscow  21:43:59     Friday  \n",
       "65078     country            Moscow  21:59:46     Friday  \n",
       "\n",
       "[65079 rows x 7 columns]"
      ]
     },
     "execution_count": 45,
     "metadata": {},
     "output_type": "execute_result"
    }
   ],
   "source": [
    "# проверка результатов - перечень названий столбцов\n",
    "df.columns\n",
    "df"
   ]
  },
  {
   "cell_type": "markdown",
   "metadata": {
    "deletable": false,
    "editable": false,
    "id": "5ISfbcfY_Zct",
    "tags": [
     "start_task"
    ]
   },
   "source": [
    "### Обработка пропущенных значений\n",
    "\n",
    "**Задание 9**"
   ]
  },
  {
   "cell_type": "code",
   "execution_count": 46,
   "metadata": {
    "deletable": false,
    "id": "RskX29qr_Zct"
   },
   "outputs": [
    {
     "name": "stdout",
     "output_type": "stream",
     "text": [
      "user_id       0\n",
      "track      1231\n",
      "artist     7203\n",
      "genre      1198\n",
      "city          0\n",
      "time          0\n",
      "day           0\n",
      "dtype: int64\n"
     ]
    }
   ],
   "source": [
    "# подсчёт пропусков\n",
    "print(df.isna().sum()) "
   ]
  },
  {
   "cell_type": "markdown",
   "metadata": {
    "deletable": false,
    "editable": false,
    "id": "fSv2laPA_Zct",
    "tags": [
     "start_task"
    ]
   },
   "source": [
    "**Задание 10**"
   ]
  },
  {
   "cell_type": "code",
   "execution_count": 47,
   "metadata": {
    "deletable": false,
    "id": "KplB5qWs_Zct"
   },
   "outputs": [],
   "source": [
    "# замена пропущенных значений на 'unknown'\n",
    "# список со столбцами, в которых нужно заменить значения\n",
    "columns_to_replace = ('track'), ('artist'), ('genre')\n",
    "for column in columns_to_replace:\n",
    "    df[column] = df[column].fillna('unknown')"
   ]
  },
  {
   "cell_type": "markdown",
   "metadata": {
    "deletable": false,
    "editable": false,
    "id": "Ilsm-MZo_Zct",
    "tags": [
     "start_task"
    ]
   },
   "source": [
    "**Задание 11**"
   ]
  },
  {
   "cell_type": "code",
   "execution_count": 48,
   "metadata": {
    "deletable": false,
    "id": "Tq4nYRX4_Zct"
   },
   "outputs": [
    {
     "name": "stdout",
     "output_type": "stream",
     "text": [
      "user_id    0\n",
      "track      0\n",
      "artist     0\n",
      "genre      0\n",
      "city       0\n",
      "time       0\n",
      "day        0\n",
      "dtype: int64\n"
     ]
    }
   ],
   "source": [
    "# проверка на отсутствие пропусков\n",
    "print(df.isna().sum())"
   ]
  },
  {
   "cell_type": "markdown",
   "metadata": {
    "deletable": false,
    "editable": false,
    "id": "BWKRtBJ3_Zct",
    "tags": [
     "start_task"
    ]
   },
   "source": [
    "### Обработка дубликатов\n",
    "\n",
    "**Задание 12**"
   ]
  },
  {
   "cell_type": "code",
   "execution_count": 49,
   "metadata": {
    "deletable": false,
    "id": "36eES_S0_Zct"
   },
   "outputs": [
    {
     "name": "stdout",
     "output_type": "stream",
     "text": [
      "3826\n"
     ]
    }
   ],
   "source": [
    "# подсчёт явных дубликатов\n",
    "print(df.duplicated().sum()) "
   ]
  },
  {
   "cell_type": "markdown",
   "metadata": {
    "deletable": false,
    "editable": false,
    "id": "Ot25h6XR_Zct",
    "tags": [
     "start_task"
    ]
   },
   "source": [
    "**Задание 13**"
   ]
  },
  {
   "cell_type": "code",
   "execution_count": 50,
   "metadata": {
    "deletable": false,
    "id": "exFHq6tt_Zct"
   },
   "outputs": [],
   "source": [
    "# удаление явных дубликатов, создание новых индексов и удаление старых\n",
    "df = df.drop_duplicates().reset_index(drop=True)"
   ]
  },
  {
   "cell_type": "markdown",
   "metadata": {
    "deletable": false,
    "editable": false,
    "id": "Im2YwBEG_Zct",
    "tags": [
     "start_task"
    ]
   },
   "source": [
    "**Задание 14**"
   ]
  },
  {
   "cell_type": "code",
   "execution_count": 51,
   "metadata": {
    "deletable": false,
    "id": "-8PuNWQ0_Zct"
   },
   "outputs": [
    {
     "name": "stdout",
     "output_type": "stream",
     "text": [
      "0\n"
     ]
    }
   ],
   "source": [
    "# проверка на отсутствие явных дубликатов\n",
    "print(df.duplicated().sum()) "
   ]
  },
  {
   "cell_type": "markdown",
   "metadata": {
    "deletable": false,
    "editable": false,
    "id": "eSjWwsOh_Zct",
    "tags": [
     "start_task"
    ]
   },
   "source": [
    "**Задание 15**"
   ]
  },
  {
   "cell_type": "code",
   "execution_count": 52,
   "metadata": {
    "deletable": false,
    "id": "JIUcqzZN_Zct"
   },
   "outputs": [
    {
     "name": "stdout",
     "output_type": "stream",
     "text": [
      "['acid' 'acoustic' 'action' 'adult' 'africa' 'afrikaans' 'alternative'\n",
      " 'alternativepunk' 'ambient' 'americana' 'animated' 'anime' 'arabesk'\n",
      " 'arabic' 'arena' 'argentinetango' 'art' 'audiobook' 'author' 'avantgarde'\n",
      " 'axé' 'baile' 'balkan' 'beats' 'bigroom' 'black' 'bluegrass' 'blues'\n",
      " 'bollywood' 'bossa' 'brazilian' 'breakbeat' 'breaks' 'broadway'\n",
      " 'cantautori' 'cantopop' 'canzone' 'caribbean' 'caucasian' 'celtic'\n",
      " 'chamber' 'chanson' 'children' 'chill' 'chinese' 'choral' 'christian'\n",
      " 'christmas' 'classical' 'classicmetal' 'club' 'colombian' 'comedy'\n",
      " 'conjazz' 'contemporary' 'country' 'cuban' 'dance' 'dancehall' 'dancepop'\n",
      " 'dark' 'death' 'deep' 'deutschrock' 'deutschspr' 'dirty' 'disco' 'dnb'\n",
      " 'documentary' 'downbeat' 'downtempo' 'drum' 'dub' 'dubstep' 'eastern'\n",
      " 'easy' 'electronic' 'electropop' 'emo' 'entehno' 'epicmetal' 'estrada'\n",
      " 'ethnic' 'eurofolk' 'european' 'experimental' 'extrememetal' 'fado'\n",
      " 'fairytail' 'film' 'fitness' 'flamenco' 'folk' 'folklore' 'folkmetal'\n",
      " 'folkrock' 'folktronica' 'forró' 'frankreich' 'französisch' 'french'\n",
      " 'funk' 'future' 'gangsta' 'garage' 'german' 'ghazal' 'gitarre' 'glitch'\n",
      " 'gospel' 'gothic' 'grime' 'grunge' 'gypsy' 'handsup' \"hard'n'heavy\"\n",
      " 'hardcore' 'hardstyle' 'hardtechno' 'hip' 'hip-hop' 'hiphop' 'historisch'\n",
      " 'holiday' 'hop' 'horror' 'house' 'hymn' 'idm' 'independent' 'indian'\n",
      " 'indie' 'indipop' 'industrial' 'inspirational' 'instrumental'\n",
      " 'international' 'irish' 'jam' 'japanese' 'jazz' 'jewish' 'jpop' 'jungle'\n",
      " 'k-pop' 'karadeniz' 'karaoke' 'kayokyoku' 'korean' 'laiko' 'latin'\n",
      " 'latino' 'leftfield' 'local' 'lounge' 'loungeelectronic' 'lovers'\n",
      " 'malaysian' 'mandopop' 'marschmusik' 'meditative' 'mediterranean'\n",
      " 'melodic' 'metal' 'metalcore' 'mexican' 'middle' 'minimal'\n",
      " 'miscellaneous' 'modern' 'mood' 'mpb' 'muslim' 'native' 'neoklassik'\n",
      " 'neue' 'new' 'newage' 'newwave' 'nu' 'nujazz' 'numetal' 'oceania' 'old'\n",
      " 'opera' 'orchestral' 'other' 'piano' 'podcasts' 'pop' 'popdance'\n",
      " 'popelectronic' 'popeurodance' 'poprussian' 'post' 'posthardcore'\n",
      " 'postrock' 'power' 'progmetal' 'progressive' 'psychedelic' 'punjabi'\n",
      " 'punk' 'quebecois' 'ragga' 'ram' 'rancheras' 'rap' 'rave' 'reggae'\n",
      " 'reggaeton' 'regional' 'relax' 'religious' 'retro' 'rhythm' 'rnb' 'rnr'\n",
      " 'rock' 'rockabilly' 'rockalternative' 'rockindie' 'rockother' 'romance'\n",
      " 'roots' 'ruspop' 'rusrap' 'rusrock' 'russian' 'salsa' 'samba' 'scenic'\n",
      " 'schlager' 'self' 'sertanejo' 'shanson' 'shoegazing' 'showtunes' 'singer'\n",
      " 'ska' 'skarock' 'slow' 'smooth' 'soft' 'soul' 'soulful' 'sound'\n",
      " 'soundtrack' 'southern' 'specialty' 'speech' 'spiritual' 'sport'\n",
      " 'stonerrock' 'surf' 'swing' 'synthpop' 'synthrock' 'sängerportrait'\n",
      " 'tango' 'tanzorchester' 'taraftar' 'tatar' 'tech' 'techno' 'teen'\n",
      " 'thrash' 'top' 'traditional' 'tradjazz' 'trance' 'tribal' 'trip'\n",
      " 'triphop' 'tropical' 'türk' 'türkçe' 'ukrrock' 'unknown' 'urban' 'uzbek'\n",
      " 'variété' 'vi' 'videogame' 'vocal' 'western' 'world' 'worldbeat' 'ïîï'\n",
      " 'электроника']\n"
     ]
    }
   ],
   "source": [
    "# просмотр уникальных отсортированных названий жанров\n",
    "genre = df.sort_values(by='genre', ascending = True)\n",
    "print(genre['genre'].unique())"
   ]
  },
  {
   "cell_type": "markdown",
   "metadata": {
    "deletable": false,
    "editable": false,
    "id": "qej-Qmuo_Zct",
    "tags": [
     "start_task"
    ]
   },
   "source": [
    "**Задание 16**"
   ]
  },
  {
   "cell_type": "code",
   "execution_count": 76,
   "metadata": {
    "deletable": false,
    "id": "ErNDkmns_Zct"
   },
   "outputs": [
    {
     "data": {
      "text/html": [
       "<div>\n",
       "<style scoped>\n",
       "    .dataframe tbody tr th:only-of-type {\n",
       "        vertical-align: middle;\n",
       "    }\n",
       "\n",
       "    .dataframe tbody tr th {\n",
       "        vertical-align: top;\n",
       "    }\n",
       "\n",
       "    .dataframe thead th {\n",
       "        text-align: right;\n",
       "    }\n",
       "</style>\n",
       "<table border=\"1\" class=\"dataframe\">\n",
       "  <thead>\n",
       "    <tr style=\"text-align: right;\">\n",
       "      <th></th>\n",
       "      <th>user_id</th>\n",
       "      <th>track</th>\n",
       "      <th>artist</th>\n",
       "      <th>genre</th>\n",
       "      <th>city</th>\n",
       "      <th>time</th>\n",
       "      <th>day</th>\n",
       "    </tr>\n",
       "  </thead>\n",
       "  <tbody>\n",
       "    <tr>\n",
       "      <th>0</th>\n",
       "      <td>FFB692EC</td>\n",
       "      <td>Kamigata To Boots</td>\n",
       "      <td>The Mass Missile</td>\n",
       "      <td>rock</td>\n",
       "      <td>Saint-Petersburg</td>\n",
       "      <td>20:28:33</td>\n",
       "      <td>Wednesday</td>\n",
       "    </tr>\n",
       "    <tr>\n",
       "      <th>1</th>\n",
       "      <td>55204538</td>\n",
       "      <td>Delayed Because of Accident</td>\n",
       "      <td>Andreas Rönnberg</td>\n",
       "      <td>rock</td>\n",
       "      <td>Moscow</td>\n",
       "      <td>14:07:09</td>\n",
       "      <td>Friday</td>\n",
       "    </tr>\n",
       "    <tr>\n",
       "      <th>2</th>\n",
       "      <td>20EC38</td>\n",
       "      <td>Funiculì funiculà</td>\n",
       "      <td>Mario Lanza</td>\n",
       "      <td>pop</td>\n",
       "      <td>Saint-Petersburg</td>\n",
       "      <td>20:58:07</td>\n",
       "      <td>Wednesday</td>\n",
       "    </tr>\n",
       "    <tr>\n",
       "      <th>3</th>\n",
       "      <td>A3DD03C9</td>\n",
       "      <td>Dragons in the Sunset</td>\n",
       "      <td>Fire + Ice</td>\n",
       "      <td>folk</td>\n",
       "      <td>Saint-Petersburg</td>\n",
       "      <td>08:37:09</td>\n",
       "      <td>Monday</td>\n",
       "    </tr>\n",
       "    <tr>\n",
       "      <th>4</th>\n",
       "      <td>E2DC1FAE</td>\n",
       "      <td>Soul People</td>\n",
       "      <td>Space Echo</td>\n",
       "      <td>dance</td>\n",
       "      <td>Moscow</td>\n",
       "      <td>08:34:34</td>\n",
       "      <td>Monday</td>\n",
       "    </tr>\n",
       "    <tr>\n",
       "      <th>...</th>\n",
       "      <td>...</td>\n",
       "      <td>...</td>\n",
       "      <td>...</td>\n",
       "      <td>...</td>\n",
       "      <td>...</td>\n",
       "      <td>...</td>\n",
       "      <td>...</td>\n",
       "    </tr>\n",
       "    <tr>\n",
       "      <th>61248</th>\n",
       "      <td>729CBB09</td>\n",
       "      <td>My Name</td>\n",
       "      <td>McLean</td>\n",
       "      <td>rnb</td>\n",
       "      <td>Moscow</td>\n",
       "      <td>13:32:28</td>\n",
       "      <td>Wednesday</td>\n",
       "    </tr>\n",
       "    <tr>\n",
       "      <th>61249</th>\n",
       "      <td>D08D4A55</td>\n",
       "      <td>Maybe One Day (feat. Black Spade)</td>\n",
       "      <td>Blu &amp; Exile</td>\n",
       "      <td>hiphop</td>\n",
       "      <td>Saint-Petersburg</td>\n",
       "      <td>10:00:00</td>\n",
       "      <td>Monday</td>\n",
       "    </tr>\n",
       "    <tr>\n",
       "      <th>61250</th>\n",
       "      <td>C5E3A0D5</td>\n",
       "      <td>Jalopiina</td>\n",
       "      <td>unknown</td>\n",
       "      <td>industrial</td>\n",
       "      <td>Moscow</td>\n",
       "      <td>20:09:26</td>\n",
       "      <td>Friday</td>\n",
       "    </tr>\n",
       "    <tr>\n",
       "      <th>61251</th>\n",
       "      <td>321D0506</td>\n",
       "      <td>Freight Train</td>\n",
       "      <td>Chas McDevitt</td>\n",
       "      <td>rock</td>\n",
       "      <td>Moscow</td>\n",
       "      <td>21:43:59</td>\n",
       "      <td>Friday</td>\n",
       "    </tr>\n",
       "    <tr>\n",
       "      <th>61252</th>\n",
       "      <td>3A64EF84</td>\n",
       "      <td>Tell Me Sweet Little Lies</td>\n",
       "      <td>Monica Lopez</td>\n",
       "      <td>country</td>\n",
       "      <td>Moscow</td>\n",
       "      <td>21:59:46</td>\n",
       "      <td>Friday</td>\n",
       "    </tr>\n",
       "  </tbody>\n",
       "</table>\n",
       "<p>61253 rows × 7 columns</p>\n",
       "</div>"
      ],
      "text/plain": [
       "        user_id                              track            artist  \\\n",
       "0      FFB692EC                  Kamigata To Boots  The Mass Missile   \n",
       "1      55204538        Delayed Because of Accident  Andreas Rönnberg   \n",
       "2        20EC38                  Funiculì funiculà       Mario Lanza   \n",
       "3      A3DD03C9              Dragons in the Sunset        Fire + Ice   \n",
       "4      E2DC1FAE                        Soul People        Space Echo   \n",
       "...         ...                                ...               ...   \n",
       "61248  729CBB09                            My Name            McLean   \n",
       "61249  D08D4A55  Maybe One Day (feat. Black Spade)       Blu & Exile   \n",
       "61250  C5E3A0D5                          Jalopiina           unknown   \n",
       "61251  321D0506                      Freight Train     Chas McDevitt   \n",
       "61252  3A64EF84          Tell Me Sweet Little Lies      Monica Lopez   \n",
       "\n",
       "            genre              city      time        day  \n",
       "0            rock  Saint-Petersburg  20:28:33  Wednesday  \n",
       "1            rock            Moscow  14:07:09     Friday  \n",
       "2             pop  Saint-Petersburg  20:58:07  Wednesday  \n",
       "3            folk  Saint-Petersburg  08:37:09     Monday  \n",
       "4           dance            Moscow  08:34:34     Monday  \n",
       "...           ...               ...       ...        ...  \n",
       "61248         rnb            Moscow  13:32:28  Wednesday  \n",
       "61249      hiphop  Saint-Petersburg  10:00:00     Monday  \n",
       "61250  industrial            Moscow  20:09:26     Friday  \n",
       "61251        rock            Moscow  21:43:59     Friday  \n",
       "61252     country            Moscow  21:59:46     Friday  \n",
       "\n",
       "[61253 rows x 7 columns]"
      ]
     },
     "execution_count": 76,
     "metadata": {},
     "output_type": "execute_result"
    }
   ],
   "source": [
    "# устранение неявных дубликатов\n",
    "duplicates = ['hip', 'hop', 'hip-hop'] # список неправильных имён\n",
    "name = 'hiphop' # правильное имя\n",
    "df['genre'] = df['genre'].replace(duplicates, name) # замена всех значений из duplicates на name\n",
    "df # датафрейм изменился, неявные дубликаты устранены "
   ]
  },
  {
   "cell_type": "markdown",
   "metadata": {
    "deletable": false,
    "editable": false,
    "id": "zQKF16_RG15m",
    "tags": [
     "start_task"
    ]
   },
   "source": [
    "**Задание 17**"
   ]
  },
  {
   "cell_type": "code",
   "execution_count": 54,
   "metadata": {
    "deletable": false,
    "id": "wvixALnFG15m"
   },
   "outputs": [
    {
     "name": "stdout",
     "output_type": "stream",
     "text": [
      "['acid' 'acoustic' 'action' 'adult' 'africa' 'afrikaans' 'alternative'\n",
      " 'alternativepunk' 'ambient' 'americana' 'animated' 'anime' 'arabesk'\n",
      " 'arabic' 'arena' 'argentinetango' 'art' 'audiobook' 'author' 'avantgarde'\n",
      " 'axé' 'baile' 'balkan' 'beats' 'bigroom' 'black' 'bluegrass' 'blues'\n",
      " 'bollywood' 'bossa' 'brazilian' 'breakbeat' 'breaks' 'broadway'\n",
      " 'cantautori' 'cantopop' 'canzone' 'caribbean' 'caucasian' 'celtic'\n",
      " 'chamber' 'chanson' 'children' 'chill' 'chinese' 'choral' 'christian'\n",
      " 'christmas' 'classical' 'classicmetal' 'club' 'colombian' 'comedy'\n",
      " 'conjazz' 'contemporary' 'country' 'cuban' 'dance' 'dancehall' 'dancepop'\n",
      " 'dark' 'death' 'deep' 'deutschrock' 'deutschspr' 'dirty' 'disco' 'dnb'\n",
      " 'documentary' 'downbeat' 'downtempo' 'drum' 'dub' 'dubstep' 'eastern'\n",
      " 'easy' 'electronic' 'electropop' 'emo' 'entehno' 'epicmetal' 'estrada'\n",
      " 'ethnic' 'eurofolk' 'european' 'experimental' 'extrememetal' 'fado'\n",
      " 'fairytail' 'film' 'fitness' 'flamenco' 'folk' 'folklore' 'folkmetal'\n",
      " 'folkrock' 'folktronica' 'forró' 'frankreich' 'französisch' 'french'\n",
      " 'funk' 'future' 'gangsta' 'garage' 'german' 'ghazal' 'gitarre' 'glitch'\n",
      " 'gospel' 'gothic' 'grime' 'grunge' 'gypsy' 'handsup' \"hard'n'heavy\"\n",
      " 'hardcore' 'hardstyle' 'hardtechno' 'hiphop' 'historisch' 'holiday'\n",
      " 'horror' 'house' 'hymn' 'idm' 'independent' 'indian' 'indie' 'indipop'\n",
      " 'industrial' 'inspirational' 'instrumental' 'international' 'irish' 'jam'\n",
      " 'japanese' 'jazz' 'jewish' 'jpop' 'jungle' 'k-pop' 'karadeniz' 'karaoke'\n",
      " 'kayokyoku' 'korean' 'laiko' 'latin' 'latino' 'leftfield' 'local'\n",
      " 'lounge' 'loungeelectronic' 'lovers' 'malaysian' 'mandopop' 'marschmusik'\n",
      " 'meditative' 'mediterranean' 'melodic' 'metal' 'metalcore' 'mexican'\n",
      " 'middle' 'minimal' 'miscellaneous' 'modern' 'mood' 'mpb' 'muslim'\n",
      " 'native' 'neoklassik' 'neue' 'new' 'newage' 'newwave' 'nu' 'nujazz'\n",
      " 'numetal' 'oceania' 'old' 'opera' 'orchestral' 'other' 'piano' 'podcasts'\n",
      " 'pop' 'popdance' 'popelectronic' 'popeurodance' 'poprussian' 'post'\n",
      " 'posthardcore' 'postrock' 'power' 'progmetal' 'progressive' 'psychedelic'\n",
      " 'punjabi' 'punk' 'quebecois' 'ragga' 'ram' 'rancheras' 'rap' 'rave'\n",
      " 'reggae' 'reggaeton' 'regional' 'relax' 'religious' 'retro' 'rhythm'\n",
      " 'rnb' 'rnr' 'rock' 'rockabilly' 'rockalternative' 'rockindie' 'rockother'\n",
      " 'romance' 'roots' 'ruspop' 'rusrap' 'rusrock' 'russian' 'salsa' 'samba'\n",
      " 'scenic' 'schlager' 'self' 'sertanejo' 'shanson' 'shoegazing' 'showtunes'\n",
      " 'singer' 'ska' 'skarock' 'slow' 'smooth' 'soft' 'soul' 'soulful' 'sound'\n",
      " 'soundtrack' 'southern' 'specialty' 'speech' 'spiritual' 'sport'\n",
      " 'stonerrock' 'surf' 'swing' 'synthpop' 'synthrock' 'sängerportrait'\n",
      " 'tango' 'tanzorchester' 'taraftar' 'tatar' 'tech' 'techno' 'teen'\n",
      " 'thrash' 'top' 'traditional' 'tradjazz' 'trance' 'tribal' 'trip'\n",
      " 'triphop' 'tropical' 'türk' 'türkçe' 'ukrrock' 'unknown' 'urban' 'uzbek'\n",
      " 'variété' 'vi' 'videogame' 'vocal' 'western' 'world' 'worldbeat' 'ïîï'\n",
      " 'электроника']\n"
     ]
    }
   ],
   "source": [
    "# проверка на отсутствие неявных дубликатов\n",
    "genre = df.sort_values(by='genre', ascending = True)\n",
    "print(genre['genre'].unique())"
   ]
  },
  {
   "cell_type": "markdown",
   "metadata": {
    "deletable": false,
    "editable": false,
    "id": "jz6a9-7HQUDd"
   },
   "source": [
    "**Выводы**\n",
    "\n",
    "Предобработка обнаружила три проблемы в данных:\n",
    "\n",
    "- нарушения в стиле заголовков,\n",
    "- пропущенные значения,\n",
    "- дубликаты — явные и неявные.\n",
    "\n",
    "Вы исправили заголовки, чтобы упростить работу с таблицей. Без дубликатов исследование станет более точным.\n",
    "\n",
    "Пропущенные значения вы заменили на `'unknown'`. Ещё предстоит увидеть, не повредят ли исследованию пропуски в колонке `genre`.\n",
    "\n",
    "Теперь можно перейти к проверке гипотез."
   ]
  },
  {
   "cell_type": "markdown",
   "metadata": {
    "deletable": false,
    "editable": false,
    "id": "WttZHXH0SqKk"
   },
   "source": [
    "## Проверка гипотез"
   ]
  },
  {
   "cell_type": "markdown",
   "metadata": {
    "deletable": false,
    "editable": false,
    "id": "Im936VVi_Zcu"
   },
   "source": [
    "### Сравнение поведения пользователей двух столиц"
   ]
  },
  {
   "cell_type": "markdown",
   "metadata": {
    "deletable": false,
    "editable": false,
    "id": "nwt_MuaL_Zcu"
   },
   "source": [
    "Первая гипотеза утверждает, что пользователи по-разному слушают музыку в Москве и Санкт-Петербурге. Проверим это предположение по данным о трёх днях недели — понедельнике, среде и пятнице. Для этого:\n",
    "\n",
    "* Разделим пользователей Москвы и Санкт-Петербурга.\n",
    "* Сравним, сколько треков послушала каждая группа пользователей в понедельник, среду и пятницу.\n"
   ]
  },
  {
   "cell_type": "markdown",
   "metadata": {
    "deletable": false,
    "id": "8Dw_YMmT_Zcu",
    "tags": [
     "start_task"
    ]
   },
   "source": [
    "**Задание 18**\n",
    "\n"
   ]
  },
  {
   "cell_type": "code",
   "execution_count": 55,
   "metadata": {
    "deletable": false,
    "id": "0_Qs96oh_Zcu"
   },
   "outputs": [
    {
     "name": "stdout",
     "output_type": "stream",
     "text": [
      "city\n",
      "Moscow              42741\n",
      "Saint-Petersburg    18512\n",
      "Name: user_id, dtype: int64\n"
     ]
    }
   ],
   "source": [
    "# подсчёт прослушиваний в каждом городе\n",
    "city = df.groupby('city')['user_id'].count()\n",
    "print(city)"
   ]
  },
  {
   "cell_type": "markdown",
   "metadata": {
    "id": "dzli3w8o_Zcu",
    "tags": [
     "start_task"
    ]
   },
   "source": [
    "**Задание 19**\n"
   ]
  },
  {
   "cell_type": "code",
   "execution_count": 56,
   "metadata": {
    "deletable": false,
    "id": "uZMKjiJz_Zcu"
   },
   "outputs": [
    {
     "name": "stdout",
     "output_type": "stream",
     "text": [
      "day\n",
      "Friday       21840\n",
      "Monday       21354\n",
      "Wednesday    18059\n",
      "Name: user_id, dtype: int64\n"
     ]
    }
   ],
   "source": [
    "# подсчёт прослушиваний в каждый из трёх дней\n",
    "day = df.groupby('day')['user_id'].count()\n",
    "print(day)"
   ]
  },
  {
   "cell_type": "markdown",
   "metadata": {
    "deletable": false,
    "editable": false,
    "id": "POzs8bGa_Zcu",
    "tags": [
     "start_task"
    ]
   },
   "source": [
    "**Задание 20**"
   ]
  },
  {
   "cell_type": "code",
   "execution_count": 57,
   "metadata": {
    "deletable": false,
    "id": "Nz3GdQB1_Zcu"
   },
   "outputs": [],
   "source": [
    "def number_tracks(day, city):\n",
    "# выберите только строки df со значением переменной day в столбце day\n",
    "    track_list = df[df['day'] == day]\n",
    "# выберите только строки track_list со значением переменной city в столбце city\n",
    "    track_list = track_list[track_list['city'] == city]\n",
    "# вызовите метод подсчета строк для track_list и выберите столбец user_id \n",
    "    track_list_count = track_list['user_id'].count()\n",
    "# верните значение track_list_count из функции\n",
    "    return track_list_count"
   ]
  },
  {
   "cell_type": "markdown",
   "metadata": {
    "deletable": false,
    "editable": false,
    "id": "ytf7xFrFJQ2r",
    "tags": [
     "start_task"
    ]
   },
   "source": [
    "**Задание 21**"
   ]
  },
  {
   "cell_type": "code",
   "execution_count": 58,
   "metadata": {
    "deletable": false,
    "id": "rJcRATNQ_Zcu"
   },
   "outputs": [
    {
     "data": {
      "text/plain": [
       "15740"
      ]
     },
     "execution_count": 58,
     "metadata": {},
     "output_type": "execute_result"
    }
   ],
   "source": [
    "# количество прослушиваний в Москве по понедельникам\n",
    "number_tracks('Monday', 'Moscow')"
   ]
  },
  {
   "cell_type": "code",
   "execution_count": 59,
   "metadata": {
    "deletable": false,
    "id": "hq_ncZ5T_Zcu"
   },
   "outputs": [
    {
     "data": {
      "text/plain": [
       "5614"
      ]
     },
     "execution_count": 59,
     "metadata": {},
     "output_type": "execute_result"
    }
   ],
   "source": [
    "# количество прослушиваний в Санкт-Петербурге по понедельникам\n",
    "number_tracks('Monday', 'Saint-Petersburg')"
   ]
  },
  {
   "cell_type": "code",
   "execution_count": 60,
   "metadata": {
    "deletable": false,
    "id": "_NTy2VPU_Zcu"
   },
   "outputs": [
    {
     "data": {
      "text/plain": [
       "11056"
      ]
     },
     "execution_count": 60,
     "metadata": {},
     "output_type": "execute_result"
    }
   ],
   "source": [
    "# количество прослушиваний в Москве по средам\n",
    "number_tracks('Wednesday', 'Moscow')"
   ]
  },
  {
   "cell_type": "code",
   "execution_count": 61,
   "metadata": {
    "deletable": false,
    "id": "j2y3TAwo_Zcu"
   },
   "outputs": [
    {
     "data": {
      "text/plain": [
       "7003"
      ]
     },
     "execution_count": 61,
     "metadata": {},
     "output_type": "execute_result"
    }
   ],
   "source": [
    "# количество прослушиваний в Санкт-Петербурге по средам\n",
    "number_tracks('Wednesday', 'Saint-Petersburg')"
   ]
  },
  {
   "cell_type": "code",
   "execution_count": 62,
   "metadata": {
    "deletable": false,
    "id": "vYDw5u_K_Zcu"
   },
   "outputs": [
    {
     "data": {
      "text/plain": [
       "15945"
      ]
     },
     "execution_count": 62,
     "metadata": {},
     "output_type": "execute_result"
    }
   ],
   "source": [
    "# количество прослушиваний в Москве по пятницам\n",
    "number_tracks('Friday', 'Moscow')"
   ]
  },
  {
   "cell_type": "code",
   "execution_count": 63,
   "metadata": {
    "deletable": false,
    "id": "8_yzFtW3_Zcu"
   },
   "outputs": [
    {
     "data": {
      "text/plain": [
       "5895"
      ]
     },
     "execution_count": 63,
     "metadata": {},
     "output_type": "execute_result"
    }
   ],
   "source": [
    "# количество прослушиваний в Санкт-Петербурге по пятницам\n",
    "number_tracks('Friday', 'Saint-Petersburg')"
   ]
  },
  {
   "cell_type": "markdown",
   "metadata": {
    "deletable": false,
    "editable": false,
    "id": "7QXffbO-_Zcu",
    "tags": [
     "start_task"
    ]
   },
   "source": [
    "**Задание 22**"
   ]
  },
  {
   "cell_type": "code",
   "execution_count": 64,
   "metadata": {
    "deletable": false,
    "id": "APAcLpOr_Zcu"
   },
   "outputs": [
    {
     "name": "stdout",
     "output_type": "stream",
     "text": [
      "              city  monday  wednesday  friday\n",
      "0           Москва   15740      11056   15945\n",
      "1  Санкт-Петербург    5614       7003    5895\n"
     ]
    }
   ],
   "source": [
    "# создание таблицы с результатами\n",
    "info = pd.DataFrame(data=[['Москва', 15740, 11056, 15945], ['Санкт-Петербург', 5614, 7003, 5895]], columns=['city', 'monday', 'wednesday', 'friday'])\n",
    "info \n",
    "# вывод таблицы на экран\n",
    "print(info)"
   ]
  },
  {
   "cell_type": "markdown",
   "metadata": {
    "deletable": false,
    "editable": false,
    "id": "-EgPIHYu_Zcu"
   },
   "source": [
    "**Выводы**\n",
    "\n",
    "Данные показывают разницу поведения пользователей:\n",
    "\n",
    "- В Москве пик прослушиваний приходится на понедельник и пятницу, а в среду заметен спад.\n",
    "- В Петербурге, наоборот, больше слушают музыку по средам. Активность в понедельник и пятницу здесь почти в равной мере уступает среде.\n",
    "\n",
    "Значит, данные говорят в пользу первой гипотезы."
   ]
  },
  {
   "cell_type": "markdown",
   "metadata": {
    "deletable": false,
    "editable": false,
    "id": "atZAxtq4_Zcu"
   },
   "source": [
    "### Музыка в начале и в конце недели"
   ]
  },
  {
   "cell_type": "markdown",
   "metadata": {
    "deletable": false,
    "editable": false,
    "id": "eXrQqXFH_Zcu"
   },
   "source": [
    "Согласно второй гипотезе, утром в понедельник в Москве преобладают одни жанры, а в Петербурге — другие. Так же и вечером пятницы преобладают разные жанры — в зависимости от города."
   ]
  },
  {
   "cell_type": "markdown",
   "metadata": {
    "deletable": false,
    "editable": false,
    "id": "S8UcW6Hw_Zcu",
    "tags": [
     "start_task"
    ]
   },
   "source": [
    "**Задание 23**"
   ]
  },
  {
   "cell_type": "code",
   "execution_count": 65,
   "metadata": {
    "deletable": false,
    "id": "qeaFfM_P_Zcu"
   },
   "outputs": [],
   "source": [
    "# получение таблицы moscow_general из тех строк таблицы df, для которых значение в столбце 'city' равно 'Moscow'\n",
    "moscow_general = df[df['city'] == 'Moscow']"
   ]
  },
  {
   "cell_type": "code",
   "execution_count": 66,
   "metadata": {
    "deletable": false,
    "id": "ORaVRKto_Zcu"
   },
   "outputs": [],
   "source": [
    "# получение таблицы spb_general из тех строк таблицы df, для которых значение в столбце 'city' равно 'Saint-Petersburg'\n",
    "spb_general = df[df['city'] == 'Saint-Petersburg']"
   ]
  },
  {
   "cell_type": "markdown",
   "metadata": {
    "deletable": false,
    "editable": false,
    "id": "MEJV-CX2_Zcu",
    "tags": [
     "start_task"
    ]
   },
   "source": [
    "**Задание 24**"
   ]
  },
  {
   "cell_type": "code",
   "execution_count": 67,
   "metadata": {
    "deletable": false,
    "id": "laJT9BYl_Zcu"
   },
   "outputs": [],
   "source": [
    "def genre_weekday(df, day, time1, time2):\n",
    "    # последовательная фильтрация\n",
    "    # оставляем в genre_df только те строки df, у которых день равен day\n",
    "    genre_df = df[df['day'] == day] # ваш код здесь\n",
    "    # оставляем в genre_df только те строки genre_df, у которых время меньше time2\n",
    "    genre_df = genre_df[genre_df['time'] < time2] # ваш код здесь\n",
    "    # оставляем в genre_df только те строки genre_df, у которых время больше time1\n",
    "    genre_df = genre_df[genre_df['time'] > time1] # ваш код здесь\n",
    "    # сгруппируем отфильтрованный датафрейм по столбцу с названиями жанров, возьмём столбец genre и посчитаем кол-во строк для каждого жанра методом count()\n",
    "    genre_df_grouped = genre_df.groupby('genre')['genre'].count() # ваш код здесь\n",
    "    # отсортируем результат по убыванию (чтобы в начале Series оказались самые популярные жанры)\n",
    "    genre_df_sorted = genre_df_grouped.sort_values(ascending=False) # ваш код здесь\n",
    "    # вернём Series с 10 самыми популярными жанрами в указанный отрезок времени заданного дня\n",
    "    return genre_df_sorted[:10]"
   ]
  },
  {
   "cell_type": "markdown",
   "metadata": {
    "deletable": false,
    "editable": false,
    "id": "la2s2_PF_Zcu",
    "tags": [
     "start_task"
    ]
   },
   "source": [
    "**Задание 25**"
   ]
  },
  {
   "cell_type": "code",
   "execution_count": 68,
   "metadata": {
    "deletable": false,
    "id": "yz7itPUQ_Zcu"
   },
   "outputs": [
    {
     "data": {
      "text/plain": [
       "genre\n",
       "pop            781\n",
       "dance          549\n",
       "electronic     480\n",
       "rock           474\n",
       "hiphop         286\n",
       "ruspop         186\n",
       "world          181\n",
       "rusrap         175\n",
       "alternative    164\n",
       "unknown        161\n",
       "Name: genre, dtype: int64"
      ]
     },
     "execution_count": 68,
     "metadata": {},
     "output_type": "execute_result"
    }
   ],
   "source": [
    "# вызов функции для утра понедельника в Москве (вместо df — таблица moscow_general)\n",
    "genre_weekday(moscow_general, 'Monday', '07:00', '11:00')"
   ]
  },
  {
   "cell_type": "code",
   "execution_count": 69,
   "metadata": {
    "deletable": false,
    "id": "kwUcHPdy_Zcu"
   },
   "outputs": [
    {
     "data": {
      "text/plain": [
       "genre\n",
       "pop            218\n",
       "dance          182\n",
       "rock           162\n",
       "electronic     147\n",
       "hiphop          80\n",
       "ruspop          64\n",
       "alternative     58\n",
       "rusrap          55\n",
       "jazz            44\n",
       "classical       40\n",
       "Name: genre, dtype: int64"
      ]
     },
     "execution_count": 69,
     "metadata": {},
     "output_type": "execute_result"
    }
   ],
   "source": [
    "# вызов функции для утра понедельника в Петербурге (вместо df — таблица spb_general)\n",
    "genre_weekday(spb_general, 'Monday', '07:00', '11:00')"
   ]
  },
  {
   "cell_type": "code",
   "execution_count": 70,
   "metadata": {
    "deletable": false,
    "id": "EzXVRE1o_Zcu"
   },
   "outputs": [
    {
     "data": {
      "text/plain": [
       "genre\n",
       "pop            713\n",
       "rock           517\n",
       "dance          495\n",
       "electronic     482\n",
       "hiphop         273\n",
       "world          208\n",
       "ruspop         170\n",
       "alternative    163\n",
       "classical      163\n",
       "rusrap         142\n",
       "Name: genre, dtype: int64"
      ]
     },
     "execution_count": 70,
     "metadata": {},
     "output_type": "execute_result"
    }
   ],
   "source": [
    "# вызов функции для вечера пятницы в Москве\n",
    "genre_weekday(moscow_general, 'Friday', '17:00', '23:00')"
   ]
  },
  {
   "cell_type": "code",
   "execution_count": 71,
   "metadata": {
    "deletable": false,
    "id": "JZaEKu5v_Zcu"
   },
   "outputs": [
    {
     "data": {
      "text/plain": [
       "genre\n",
       "pop            256\n",
       "electronic     216\n",
       "rock           216\n",
       "dance          210\n",
       "hiphop          97\n",
       "alternative     63\n",
       "jazz            61\n",
       "classical       60\n",
       "rusrap          59\n",
       "world           54\n",
       "Name: genre, dtype: int64"
      ]
     },
     "execution_count": 71,
     "metadata": {},
     "output_type": "execute_result"
    }
   ],
   "source": [
    "# вызов функции для вечера пятницы в Петербурге\n",
    "genre_weekday(spb_general, 'Friday', '17:00', '23:00')"
   ]
  },
  {
   "cell_type": "markdown",
   "metadata": {
    "deletable": false,
    "editable": false,
    "id": "wrCe4MNX_Zcu"
   },
   "source": [
    "**Выводы**\n",
    "\n",
    "Если сравнить топ-10 жанров в понедельник утром, можно сделать такие выводы:\n",
    "\n",
    "1. В Москве и Петербурге слушают похожую музыку. Единственное различие — в московский рейтинг вошёл жанр “world”, а в петербургский — джаз и классика.\n",
    "\n",
    "2. В Москве пропущенных значений оказалось так много, что значение `'unknown'` заняло десятое место среди самых популярных жанров. Значит, пропущенные значения занимают существенную долю в данных и угрожают достоверности исследования.\n",
    "\n",
    "Вечер пятницы не меняет эту картину. Некоторые жанры поднимаются немного выше, другие спускаются, но в целом топ-10 остаётся тем же самым.\n",
    "\n",
    "Таким образом, вторая гипотеза подтвердилась лишь частично:\n",
    "* Пользователи слушают похожую музыку в начале недели и в конце.\n",
    "* Разница между Москвой и Петербургом не слишком выражена. В Москве чаще слушают русскую популярную музыку, в Петербурге — джаз.\n",
    "\n",
    "Однако пропуски в данных ставят под сомнение этот результат. В Москве их так много, что рейтинг топ-10 мог бы выглядеть иначе, если бы не утерянные  данные о жанрах."
   ]
  },
  {
   "cell_type": "markdown",
   "metadata": {
    "deletable": false,
    "editable": false,
    "id": "JolODAqr_Zcu"
   },
   "source": [
    "### Жанровые предпочтения в Москве и Петербурге\n",
    "\n",
    "Гипотеза: Петербург — столица рэпа, музыку этого жанра там слушают чаще, чем в Москве.  А Москва — город контрастов, в котором, тем не менее, преобладает поп-музыка."
   ]
  },
  {
   "cell_type": "markdown",
   "metadata": {
    "deletable": false,
    "editable": false,
    "id": "DlegSvaT_Zcu",
    "tags": [
     "start_task"
    ]
   },
   "source": [
    "**Задание 26**"
   ]
  },
  {
   "cell_type": "code",
   "execution_count": 72,
   "metadata": {
    "deletable": false,
    "id": "r19lIPke_Zcu"
   },
   "outputs": [],
   "source": [
    "# одной строкой: группировка таблицы moscow_general по столбцу 'genre', выбор столбца `genre`, подсчёт числа значений 'genre' методом count(), сохранение в moscow_genres\n",
    "# сортировка получившегося Series в порядке убывания и сохранение обратно в moscow_genres\n",
    "moscow_genres = moscow_general.groupby('genre')['genre'].count()\n",
    "moscow_genres = moscow_genres.sort_values(ascending=False)"
   ]
  },
  {
   "cell_type": "markdown",
   "metadata": {
    "deletable": false,
    "editable": false,
    "id": "6kMuomxTiIr8",
    "tags": [
     "start_task"
    ]
   },
   "source": [
    "**Задание 27**"
   ]
  },
  {
   "cell_type": "code",
   "execution_count": 73,
   "metadata": {
    "deletable": false,
    "id": "WhCSooF8_Zcv"
   },
   "outputs": [
    {
     "data": {
      "text/plain": [
       "genre\n",
       "pop            5892\n",
       "dance          4435\n",
       "rock           3965\n",
       "electronic     3786\n",
       "hiphop         2096\n",
       "classical      1616\n",
       "world          1432\n",
       "alternative    1379\n",
       "ruspop         1372\n",
       "rusrap         1161\n",
       "Name: genre, dtype: int64"
      ]
     },
     "execution_count": 73,
     "metadata": {},
     "output_type": "execute_result"
    }
   ],
   "source": [
    "# просмотр первых 10 строк moscow_genres\n",
    "moscow_genres.head(10)"
   ]
  },
  {
   "cell_type": "markdown",
   "metadata": {
    "deletable": false,
    "editable": false,
    "id": "cnPG2vnN_Zcv",
    "tags": [
     "start_task"
    ]
   },
   "source": [
    "**Задание 28**"
   ]
  },
  {
   "cell_type": "code",
   "execution_count": 74,
   "metadata": {
    "deletable": false,
    "id": "gluLIpE7_Zcv"
   },
   "outputs": [],
   "source": [
    "# одной строкой: группировка таблицы spb_general по столбцу 'genre', выбор столбца `genre`, подсчёт числа значений 'genre' методом count(), сохранение в spb_genres\n",
    "# сортировка получившегося Series в порядке убывания и сохранение обратно в spb_genres\n",
    "spb_genres = spb_general.groupby('genre')['genre'].count()\n",
    "spb_genres = spb_genres.sort_values(ascending=False)"
   ]
  },
  {
   "cell_type": "markdown",
   "metadata": {
    "deletable": false,
    "editable": false,
    "id": "5Doha_ODgyQ8",
    "tags": [
     "start_task"
    ]
   },
   "source": [
    "**Задание 29**"
   ]
  },
  {
   "cell_type": "code",
   "execution_count": 75,
   "metadata": {
    "deletable": false,
    "id": "uaGJHjVU_Zcv"
   },
   "outputs": [
    {
     "data": {
      "text/plain": [
       "genre\n",
       "pop            2431\n",
       "dance          1932\n",
       "rock           1879\n",
       "electronic     1736\n",
       "hiphop          960\n",
       "alternative     649\n",
       "classical       646\n",
       "rusrap          564\n",
       "ruspop          538\n",
       "world           515\n",
       "Name: genre, dtype: int64"
      ]
     },
     "execution_count": 75,
     "metadata": {},
     "output_type": "execute_result"
    }
   ],
   "source": [
    "# просмотр первых 10 строк spb_genres\n",
    "spb_genres.head(10)"
   ]
  },
  {
   "cell_type": "markdown",
   "metadata": {
    "deletable": false,
    "editable": false,
    "id": "RY51YJYu_Zcv"
   },
   "source": [
    "**Выводы**"
   ]
  },
  {
   "cell_type": "markdown",
   "metadata": {
    "deletable": false,
    "editable": false,
    "id": "nVhnJEm__Zcv"
   },
   "source": [
    "Гипотеза частично подтвердилась:\n",
    "* Поп-музыка — самый популярный жанр в Москве, как и предполагала гипотеза. Более того, в топ-10 жанров встречается близкий жанр — русская популярная музыка.\n",
    "* Вопреки ожиданиям, рэп одинаково популярен в Москве и Петербурге.\n"
   ]
  },
  {
   "cell_type": "markdown",
   "metadata": {
    "deletable": false,
    "editable": false,
    "id": "ykKQ0N65_Zcv"
   },
   "source": [
    "## Итоги исследования"
   ]
  },
  {
   "cell_type": "markdown",
   "metadata": {
    "deletable": false,
    "editable": false,
    "id": "tjUwbHb3_Zcv"
   },
   "source": [
    "Вы проверили три гипотезы и установили:\n",
    "\n",
    "1. День недели по-разному влияет на активность пользователей в Москве и Петербурге.\n",
    "\n",
    "Первая гипотеза полностью подтвердилась.\n",
    "\n",
    "2. Музыкальные предпочтения не сильно меняются в течение недели — будь то Москва или Петербург. Небольшие различия заметны в начале недели, по понедельникам:\n",
    "* в Москве слушают музыку жанра “world”,\n",
    "* в Петербурге — джаз и классику.\n",
    "\n",
    "Таким образом, вторая гипотеза подтвердилась лишь отчасти. Этот результат мог оказаться иным, если бы не пропуски в данных.\n",
    "\n",
    "3. Во вкусах пользователей Москвы и Петербурга больше общего, чем различий. Вопреки ожиданиям, предпочтения жанров в Петербурге напоминают московские.\n",
    "\n",
    "Третья гипотеза не подтвердилась. Если различия в предпочтениях и существуют, на основной массе пользователей они незаметны.\n",
    "\n",
    "**На практике исследования содержат проверки статистических гипотез.**\n",
    "Из части данных одного сервиса невозможно сделать какие-то выводы о всех пользователях сервиса без методов статистики.\n",
    "Проверки статистических гипотез покажут, насколько они достоверны, исходя из имеющихся данных.\n",
    "С методами проверок гипотез вы ещё познакомитесь в следующих темах."
   ]
  }
 ],
 "metadata": {
  "ExecuteTimeLog": [
   {
    "duration": 3,
    "start_time": "2024-05-08T08:29:39.752Z"
   },
   {
    "duration": 8,
    "start_time": "2024-05-08T08:30:30.056Z"
   },
   {
    "duration": 51,
    "start_time": "2024-05-08T08:30:45.529Z"
   },
   {
    "duration": 442,
    "start_time": "2024-05-08T10:27:37.125Z"
   },
   {
    "duration": 482,
    "start_time": "2024-05-08T10:28:29.555Z"
   },
   {
    "duration": 18,
    "start_time": "2024-05-08T10:30:50.392Z"
   },
   {
    "duration": 75,
    "start_time": "2024-05-08T10:32:07.380Z"
   },
   {
    "duration": 35,
    "start_time": "2024-05-08T10:32:17.722Z"
   },
   {
    "duration": 49,
    "start_time": "2024-05-08T10:39:31.929Z"
   },
   {
    "duration": 56,
    "start_time": "2024-05-08T10:40:27.336Z"
   },
   {
    "duration": 58,
    "start_time": "2024-05-08T10:40:54.071Z"
   },
   {
    "duration": 3,
    "start_time": "2024-05-08T10:41:37.525Z"
   },
   {
    "duration": 8,
    "start_time": "2024-05-08T10:43:50.083Z"
   },
   {
    "duration": 5,
    "start_time": "2024-05-08T10:44:45.260Z"
   },
   {
    "duration": 14,
    "start_time": "2024-05-08T10:50:23.645Z"
   },
   {
    "duration": 14,
    "start_time": "2024-05-08T10:50:45.229Z"
   },
   {
    "duration": 4,
    "start_time": "2024-05-08T10:51:05.582Z"
   },
   {
    "duration": 11,
    "start_time": "2024-05-08T10:51:13.141Z"
   },
   {
    "duration": 6,
    "start_time": "2024-05-08T10:52:04.838Z"
   },
   {
    "duration": 16,
    "start_time": "2024-05-08T10:52:13.417Z"
   },
   {
    "duration": 4,
    "start_time": "2024-05-08T10:52:39.765Z"
   },
   {
    "duration": 40,
    "start_time": "2024-05-08T10:56:24.811Z"
   },
   {
    "duration": 20,
    "start_time": "2024-05-08T11:00:54.344Z"
   },
   {
    "duration": 20,
    "start_time": "2024-05-08T11:01:00.842Z"
   },
   {
    "duration": 18,
    "start_time": "2024-05-08T11:01:06.276Z"
   },
   {
    "duration": 31,
    "start_time": "2024-05-08T11:01:52.571Z"
   },
   {
    "duration": 78,
    "start_time": "2024-05-08T11:12:18.805Z"
   },
   {
    "duration": 76,
    "start_time": "2024-05-08T11:14:56.219Z"
   },
   {
    "duration": 68,
    "start_time": "2024-05-08T11:15:38.118Z"
   },
   {
    "duration": 55,
    "start_time": "2024-05-08T11:52:39.121Z"
   },
   {
    "duration": 19,
    "start_time": "2024-05-08T12:13:15.175Z"
   },
   {
    "duration": 58,
    "start_time": "2024-05-08T12:14:40.240Z"
   },
   {
    "duration": 13,
    "start_time": "2024-05-08T16:16:30.451Z"
   },
   {
    "duration": 17,
    "start_time": "2024-05-08T16:21:00.097Z"
   },
   {
    "duration": 214,
    "start_time": "2024-05-08T17:28:38.408Z"
   },
   {
    "duration": 22,
    "start_time": "2024-05-08T17:29:01.656Z"
   },
   {
    "duration": 12,
    "start_time": "2024-05-08T17:29:39.030Z"
   },
   {
    "duration": 7,
    "start_time": "2024-05-08T17:29:57.322Z"
   },
   {
    "duration": 82,
    "start_time": "2024-05-08T17:30:20.413Z"
   },
   {
    "duration": 59,
    "start_time": "2024-05-10T07:41:37.232Z"
   },
   {
    "duration": 7,
    "start_time": "2024-05-10T07:42:07.597Z"
   },
   {
    "duration": 6,
    "start_time": "2024-05-10T07:42:22.417Z"
   },
   {
    "duration": 6,
    "start_time": "2024-05-10T07:42:54.717Z"
   },
   {
    "duration": 465,
    "start_time": "2024-05-10T07:43:02.580Z"
   },
   {
    "duration": 301,
    "start_time": "2024-05-10T07:43:07.714Z"
   },
   {
    "duration": 10,
    "start_time": "2024-05-10T07:43:14.898Z"
   },
   {
    "duration": 33,
    "start_time": "2024-05-10T07:43:18.097Z"
   },
   {
    "duration": 4,
    "start_time": "2024-05-10T07:43:25.505Z"
   },
   {
    "duration": 12,
    "start_time": "2024-05-10T07:43:29.393Z"
   },
   {
    "duration": 13,
    "start_time": "2024-05-10T07:43:31.785Z"
   },
   {
    "duration": 22,
    "start_time": "2024-05-10T07:43:35.473Z"
   },
   {
    "duration": 26,
    "start_time": "2024-05-10T07:43:37.411Z"
   },
   {
    "duration": 88,
    "start_time": "2024-05-10T07:43:40.393Z"
   },
   {
    "duration": 63,
    "start_time": "2024-05-10T07:43:42.442Z"
   },
   {
    "duration": 53,
    "start_time": "2024-05-10T07:43:47.920Z"
   },
   {
    "duration": 56,
    "start_time": "2024-05-10T07:43:51.097Z"
   },
   {
    "duration": 36,
    "start_time": "2024-05-10T07:43:56.217Z"
   },
   {
    "duration": 19,
    "start_time": "2024-05-10T07:44:01.380Z"
   },
   {
    "duration": 11,
    "start_time": "2024-05-10T07:44:10.469Z"
   },
   {
    "duration": 3,
    "start_time": "2024-05-10T07:44:14.846Z"
   },
   {
    "duration": 14,
    "start_time": "2024-05-10T08:10:28.142Z"
   },
   {
    "duration": 4,
    "start_time": "2024-05-10T08:44:17.344Z"
   },
   {
    "duration": 4,
    "start_time": "2024-05-10T10:27:02.572Z"
   },
   {
    "duration": 4,
    "start_time": "2024-05-10T10:36:43.945Z"
   },
   {
    "duration": 6,
    "start_time": "2024-05-10T10:37:22.830Z"
   },
   {
    "duration": 3,
    "start_time": "2024-05-10T10:52:10.337Z"
   },
   {
    "duration": 3,
    "start_time": "2024-05-10T10:53:30.427Z"
   },
   {
    "duration": 3,
    "start_time": "2024-05-10T10:53:33.295Z"
   },
   {
    "duration": 5,
    "start_time": "2024-05-10T11:09:53.813Z"
   },
   {
    "duration": 15,
    "start_time": "2024-05-10T11:10:05.246Z"
   },
   {
    "duration": 565,
    "start_time": "2024-05-10T11:16:55.661Z"
   },
   {
    "duration": 3,
    "start_time": "2024-05-10T11:17:07.362Z"
   },
   {
    "duration": 4,
    "start_time": "2024-05-10T11:17:12.444Z"
   },
   {
    "duration": 3,
    "start_time": "2024-05-10T11:37:37.966Z"
   },
   {
    "duration": 24,
    "start_time": "2024-05-10T15:46:19.533Z"
   },
   {
    "duration": 16,
    "start_time": "2024-05-10T15:46:21.131Z"
   },
   {
    "duration": 16,
    "start_time": "2024-05-10T15:46:22.004Z"
   },
   {
    "duration": 16,
    "start_time": "2024-05-10T15:46:23.284Z"
   },
   {
    "duration": 17,
    "start_time": "2024-05-10T15:46:24.132Z"
   },
   {
    "duration": 16,
    "start_time": "2024-05-10T15:46:25.138Z"
   },
   {
    "duration": 7,
    "start_time": "2024-05-10T15:56:01.825Z"
   },
   {
    "duration": 12,
    "start_time": "2024-05-10T16:03:10.346Z"
   },
   {
    "duration": 9,
    "start_time": "2024-05-10T16:03:11.965Z"
   },
   {
    "duration": 26,
    "start_time": "2024-05-10T16:10:38.326Z"
   },
   {
    "duration": 14,
    "start_time": "2024-05-10T16:12:04.222Z"
   },
   {
    "duration": 6,
    "start_time": "2024-05-10T17:37:47.900Z"
   },
   {
    "duration": 4,
    "start_time": "2024-05-10T17:53:07.810Z"
   },
   {
    "duration": 10,
    "start_time": "2024-05-10T17:53:30.412Z"
   },
   {
    "duration": 3,
    "start_time": "2024-05-10T17:53:45.683Z"
   },
   {
    "duration": 21,
    "start_time": "2024-05-10T17:54:33.017Z"
   },
   {
    "duration": 16,
    "start_time": "2024-05-10T17:54:42.129Z"
   },
   {
    "duration": 17,
    "start_time": "2024-05-10T17:54:46.033Z"
   },
   {
    "duration": 12,
    "start_time": "2024-05-10T17:54:49.305Z"
   },
   {
    "duration": 2,
    "start_time": "2024-05-10T17:56:58.129Z"
   },
   {
    "duration": 11,
    "start_time": "2024-05-10T17:58:21.730Z"
   },
   {
    "duration": 16,
    "start_time": "2024-05-10T17:58:39.384Z"
   },
   {
    "duration": 10,
    "start_time": "2024-05-10T17:58:58.367Z"
   },
   {
    "duration": 67,
    "start_time": "2024-05-10T17:59:07.640Z"
   },
   {
    "duration": 68,
    "start_time": "2024-05-10T17:59:18.392Z"
   },
   {
    "duration": 68,
    "start_time": "2024-05-10T17:59:25.527Z"
   },
   {
    "duration": 19,
    "start_time": "2024-05-10T17:59:48.890Z"
   },
   {
    "duration": 11,
    "start_time": "2024-05-10T17:59:51.806Z"
   },
   {
    "duration": 18,
    "start_time": "2024-05-10T17:59:53.737Z"
   },
   {
    "duration": 12,
    "start_time": "2024-05-10T17:59:57.653Z"
   },
   {
    "duration": 13,
    "start_time": "2024-05-10T18:01:30.767Z"
   },
   {
    "duration": 13,
    "start_time": "2024-05-10T18:01:34.144Z"
   },
   {
    "duration": 11,
    "start_time": "2024-05-10T18:01:37.192Z"
   },
   {
    "duration": 27,
    "start_time": "2024-05-10T18:01:54.484Z"
   },
   {
    "duration": 24,
    "start_time": "2024-05-10T18:02:53.781Z"
   },
   {
    "duration": 15,
    "start_time": "2024-05-10T18:03:23.201Z"
   },
   {
    "duration": 1119,
    "start_time": "2024-05-10T18:07:08.694Z"
   },
   {
    "duration": 15,
    "start_time": "2024-05-10T18:07:30.828Z"
   },
   {
    "duration": 10,
    "start_time": "2024-05-10T18:07:36.658Z"
   },
   {
    "duration": 13,
    "start_time": "2024-05-10T18:07:44.138Z"
   },
   {
    "duration": 3,
    "start_time": "2024-05-10T18:08:14.483Z"
   },
   {
    "duration": 3,
    "start_time": "2024-05-10T18:08:26.691Z"
   },
   {
    "duration": 2,
    "start_time": "2024-05-10T18:08:35.200Z"
   },
   {
    "duration": 3,
    "start_time": "2024-05-10T18:08:42.724Z"
   },
   {
    "duration": 3,
    "start_time": "2024-05-10T18:22:27.483Z"
   },
   {
    "duration": 205,
    "start_time": "2024-05-10T18:22:27.488Z"
   },
   {
    "duration": 10,
    "start_time": "2024-05-10T18:22:27.695Z"
   },
   {
    "duration": 34,
    "start_time": "2024-05-10T18:22:27.707Z"
   },
   {
    "duration": 3,
    "start_time": "2024-05-10T18:22:27.744Z"
   },
   {
    "duration": 32,
    "start_time": "2024-05-10T18:22:27.749Z"
   },
   {
    "duration": 15,
    "start_time": "2024-05-10T18:22:27.783Z"
   },
   {
    "duration": 14,
    "start_time": "2024-05-10T18:22:27.799Z"
   },
   {
    "duration": 32,
    "start_time": "2024-05-10T18:22:27.815Z"
   },
   {
    "duration": 35,
    "start_time": "2024-05-10T18:22:27.849Z"
   },
   {
    "duration": 35,
    "start_time": "2024-05-10T18:22:27.886Z"
   },
   {
    "duration": 72,
    "start_time": "2024-05-10T18:22:27.923Z"
   },
   {
    "duration": 90,
    "start_time": "2024-05-10T18:22:27.997Z"
   },
   {
    "duration": 60,
    "start_time": "2024-05-10T18:22:28.091Z"
   },
   {
    "duration": 70,
    "start_time": "2024-05-10T18:22:28.153Z"
   },
   {
    "duration": 24,
    "start_time": "2024-05-10T18:22:28.225Z"
   },
   {
    "duration": 79,
    "start_time": "2024-05-10T18:22:28.251Z"
   },
   {
    "duration": 14,
    "start_time": "2024-05-10T18:22:28.332Z"
   },
   {
    "duration": 19,
    "start_time": "2024-05-10T18:22:28.348Z"
   },
   {
    "duration": 11,
    "start_time": "2024-05-10T18:22:28.369Z"
   },
   {
    "duration": 25,
    "start_time": "2024-05-10T18:22:28.382Z"
   },
   {
    "duration": 16,
    "start_time": "2024-05-10T18:22:28.408Z"
   },
   {
    "duration": 15,
    "start_time": "2024-05-10T18:22:28.426Z"
   },
   {
    "duration": 39,
    "start_time": "2024-05-10T18:22:28.443Z"
   },
   {
    "duration": 20,
    "start_time": "2024-05-10T18:22:28.483Z"
   },
   {
    "duration": 16,
    "start_time": "2024-05-10T18:22:28.504Z"
   },
   {
    "duration": 6,
    "start_time": "2024-05-10T18:22:28.522Z"
   },
   {
    "duration": 32,
    "start_time": "2024-05-10T18:22:28.530Z"
   },
   {
    "duration": 28,
    "start_time": "2024-05-10T18:22:28.564Z"
   },
   {
    "duration": 6,
    "start_time": "2024-05-10T18:22:28.594Z"
   },
   {
    "duration": 25,
    "start_time": "2024-05-10T18:22:28.601Z"
   },
   {
    "duration": 18,
    "start_time": "2024-05-10T18:22:28.627Z"
   },
   {
    "duration": 45,
    "start_time": "2024-05-10T18:22:28.646Z"
   },
   {
    "duration": 16,
    "start_time": "2024-05-10T18:22:28.693Z"
   },
   {
    "duration": 13,
    "start_time": "2024-05-10T18:22:28.711Z"
   },
   {
    "duration": 13,
    "start_time": "2024-05-10T18:22:28.729Z"
   },
   {
    "duration": 11,
    "start_time": "2024-05-10T18:22:28.744Z"
   },
   {
    "duration": 6,
    "start_time": "2024-05-10T18:22:28.756Z"
   },
   {
    "duration": 3,
    "start_time": "2024-05-10T18:22:45.090Z"
   },
   {
    "duration": 222,
    "start_time": "2024-05-10T18:22:45.095Z"
   },
   {
    "duration": 10,
    "start_time": "2024-05-10T18:22:45.320Z"
   },
   {
    "duration": 48,
    "start_time": "2024-05-10T18:22:45.332Z"
   },
   {
    "duration": 26,
    "start_time": "2024-05-10T18:22:45.382Z"
   },
   {
    "duration": 40,
    "start_time": "2024-05-10T18:22:45.410Z"
   },
   {
    "duration": 22,
    "start_time": "2024-05-10T18:22:45.452Z"
   },
   {
    "duration": 13,
    "start_time": "2024-05-10T18:22:45.476Z"
   },
   {
    "duration": 53,
    "start_time": "2024-05-10T18:22:45.491Z"
   },
   {
    "duration": 21,
    "start_time": "2024-05-10T18:22:45.546Z"
   },
   {
    "duration": 28,
    "start_time": "2024-05-10T18:22:45.570Z"
   },
   {
    "duration": 63,
    "start_time": "2024-05-10T18:22:45.600Z"
   },
   {
    "duration": 82,
    "start_time": "2024-05-10T18:22:45.665Z"
   },
   {
    "duration": 68,
    "start_time": "2024-05-10T18:22:45.748Z"
   },
   {
    "duration": 52,
    "start_time": "2024-05-10T18:22:45.818Z"
   },
   {
    "duration": 24,
    "start_time": "2024-05-10T18:22:45.871Z"
   },
   {
    "duration": 57,
    "start_time": "2024-05-10T18:22:45.897Z"
   },
   {
    "duration": 28,
    "start_time": "2024-05-10T18:22:45.956Z"
   },
   {
    "duration": 13,
    "start_time": "2024-05-10T18:22:45.985Z"
   },
   {
    "duration": 10,
    "start_time": "2024-05-10T18:22:46.000Z"
   },
   {
    "duration": 28,
    "start_time": "2024-05-10T18:22:46.011Z"
   },
   {
    "duration": 15,
    "start_time": "2024-05-10T18:22:46.041Z"
   },
   {
    "duration": 27,
    "start_time": "2024-05-10T18:22:46.057Z"
   },
   {
    "duration": 15,
    "start_time": "2024-05-10T18:22:46.086Z"
   },
   {
    "duration": 17,
    "start_time": "2024-05-10T18:22:46.103Z"
   },
   {
    "duration": 27,
    "start_time": "2024-05-10T18:22:46.122Z"
   },
   {
    "duration": 8,
    "start_time": "2024-05-10T18:22:46.151Z"
   },
   {
    "duration": 34,
    "start_time": "2024-05-10T18:22:46.161Z"
   },
   {
    "duration": 11,
    "start_time": "2024-05-10T18:22:46.198Z"
   },
   {
    "duration": 8,
    "start_time": "2024-05-10T18:22:46.211Z"
   },
   {
    "duration": 24,
    "start_time": "2024-05-10T18:22:46.220Z"
   },
   {
    "duration": 11,
    "start_time": "2024-05-10T18:22:46.246Z"
   },
   {
    "duration": 33,
    "start_time": "2024-05-10T18:22:46.258Z"
   },
   {
    "duration": 16,
    "start_time": "2024-05-10T18:22:46.293Z"
   },
   {
    "duration": 2,
    "start_time": "2024-05-10T18:22:46.310Z"
   },
   {
    "duration": 11,
    "start_time": "2024-05-10T18:22:46.314Z"
   },
   {
    "duration": 5,
    "start_time": "2024-05-10T18:22:46.326Z"
   },
   {
    "duration": 8,
    "start_time": "2024-05-10T18:22:46.332Z"
   },
   {
    "duration": 2,
    "start_time": "2024-05-10T18:22:53.113Z"
   },
   {
    "duration": 216,
    "start_time": "2024-05-10T18:22:53.117Z"
   },
   {
    "duration": 10,
    "start_time": "2024-05-10T18:22:53.335Z"
   },
   {
    "duration": 46,
    "start_time": "2024-05-10T18:22:53.347Z"
   },
   {
    "duration": 2,
    "start_time": "2024-05-10T18:22:53.396Z"
   },
   {
    "duration": 8,
    "start_time": "2024-05-10T18:22:53.400Z"
   },
   {
    "duration": 14,
    "start_time": "2024-05-10T18:22:53.410Z"
   },
   {
    "duration": 13,
    "start_time": "2024-05-10T18:22:53.426Z"
   },
   {
    "duration": 50,
    "start_time": "2024-05-10T18:22:53.441Z"
   },
   {
    "duration": 20,
    "start_time": "2024-05-10T18:22:53.493Z"
   },
   {
    "duration": 26,
    "start_time": "2024-05-10T18:22:53.514Z"
   },
   {
    "duration": 85,
    "start_time": "2024-05-10T18:22:53.542Z"
   },
   {
    "duration": 79,
    "start_time": "2024-05-10T18:22:53.629Z"
   },
   {
    "duration": 70,
    "start_time": "2024-05-10T18:22:53.712Z"
   },
   {
    "duration": 57,
    "start_time": "2024-05-10T18:22:53.784Z"
   },
   {
    "duration": 16,
    "start_time": "2024-05-10T18:22:53.843Z"
   },
   {
    "duration": 67,
    "start_time": "2024-05-10T18:22:53.861Z"
   },
   {
    "duration": 12,
    "start_time": "2024-05-10T18:22:53.930Z"
   },
   {
    "duration": 12,
    "start_time": "2024-05-10T18:22:53.943Z"
   },
   {
    "duration": 24,
    "start_time": "2024-05-10T18:22:53.957Z"
   },
   {
    "duration": 33,
    "start_time": "2024-05-10T18:22:53.983Z"
   },
   {
    "duration": 14,
    "start_time": "2024-05-10T18:22:54.018Z"
   },
   {
    "duration": 24,
    "start_time": "2024-05-10T18:22:54.033Z"
   },
   {
    "duration": 23,
    "start_time": "2024-05-10T18:22:54.058Z"
   },
   {
    "duration": 19,
    "start_time": "2024-05-10T18:22:54.083Z"
   },
   {
    "duration": 19,
    "start_time": "2024-05-10T18:22:54.104Z"
   },
   {
    "duration": 7,
    "start_time": "2024-05-10T18:22:54.125Z"
   },
   {
    "duration": 28,
    "start_time": "2024-05-10T18:22:54.133Z"
   },
   {
    "duration": 21,
    "start_time": "2024-05-10T18:22:54.163Z"
   },
   {
    "duration": 5,
    "start_time": "2024-05-10T18:22:54.186Z"
   },
   {
    "duration": 43,
    "start_time": "2024-05-10T18:22:54.193Z"
   },
   {
    "duration": 19,
    "start_time": "2024-05-10T18:22:54.238Z"
   },
   {
    "duration": 41,
    "start_time": "2024-05-10T18:22:54.259Z"
   },
   {
    "duration": 35,
    "start_time": "2024-05-10T18:22:54.302Z"
   },
   {
    "duration": 21,
    "start_time": "2024-05-10T18:22:54.338Z"
   },
   {
    "duration": 16,
    "start_time": "2024-05-10T18:22:54.360Z"
   },
   {
    "duration": 11,
    "start_time": "2024-05-10T18:22:54.377Z"
   },
   {
    "duration": 18,
    "start_time": "2024-05-10T18:22:54.390Z"
   },
   {
    "duration": 3,
    "start_time": "2024-05-10T18:25:15.395Z"
   },
   {
    "duration": 3,
    "start_time": "2024-05-10T18:25:25.825Z"
   },
   {
    "duration": 3,
    "start_time": "2024-05-10T18:25:35.263Z"
   },
   {
    "duration": 3,
    "start_time": "2024-05-10T18:25:43.483Z"
   },
   {
    "duration": 4,
    "start_time": "2024-05-10T18:32:11.559Z"
   },
   {
    "duration": 5,
    "start_time": "2024-05-10T18:32:58.148Z"
   },
   {
    "duration": 21,
    "start_time": "2024-05-10T18:34:43.107Z"
   },
   {
    "duration": 13,
    "start_time": "2024-05-10T18:35:42.675Z"
   },
   {
    "duration": 26,
    "start_time": "2024-05-10T18:39:51.939Z"
   },
   {
    "duration": 14,
    "start_time": "2024-05-10T18:39:53.819Z"
   },
   {
    "duration": 14,
    "start_time": "2024-05-10T18:40:38.620Z"
   },
   {
    "duration": 20,
    "start_time": "2024-05-10T18:40:40.883Z"
   },
   {
    "duration": 14,
    "start_time": "2024-05-10T18:40:43.015Z"
   },
   {
    "duration": 22,
    "start_time": "2024-05-10T18:40:47.572Z"
   },
   {
    "duration": 13,
    "start_time": "2024-05-10T18:40:50.622Z"
   },
   {
    "duration": 20,
    "start_time": "2024-05-10T18:40:53.225Z"
   },
   {
    "duration": 15,
    "start_time": "2024-05-10T18:40:56.051Z"
   },
   {
    "duration": 21,
    "start_time": "2024-05-10T18:42:23.379Z"
   },
   {
    "duration": 13,
    "start_time": "2024-05-10T18:42:25.396Z"
   },
   {
    "duration": 21,
    "start_time": "2024-05-10T18:42:28.267Z"
   },
   {
    "duration": 13,
    "start_time": "2024-05-10T18:42:30.056Z"
   },
   {
    "duration": 4,
    "start_time": "2024-05-10T18:46:41.637Z"
   },
   {
    "duration": 5,
    "start_time": "2024-05-10T18:46:52.048Z"
   },
   {
    "duration": 15,
    "start_time": "2024-05-10T18:46:53.732Z"
   },
   {
    "duration": 14,
    "start_time": "2024-05-10T18:46:57.760Z"
   },
   {
    "duration": 17,
    "start_time": "2024-05-10T18:46:59.551Z"
   },
   {
    "duration": 12,
    "start_time": "2024-05-10T18:47:01.283Z"
   },
   {
    "duration": 4,
    "start_time": "2024-05-10T18:49:00.229Z"
   },
   {
    "duration": 14,
    "start_time": "2024-05-10T18:49:02.838Z"
   },
   {
    "duration": 10,
    "start_time": "2024-05-10T18:49:03.817Z"
   },
   {
    "duration": 15,
    "start_time": "2024-05-10T18:49:04.747Z"
   },
   {
    "duration": 15,
    "start_time": "2024-05-10T18:49:05.469Z"
   },
   {
    "duration": 17,
    "start_time": "2024-05-10T18:54:46.533Z"
   },
   {
    "duration": 10,
    "start_time": "2024-05-10T18:54:49.430Z"
   },
   {
    "duration": 16,
    "start_time": "2024-05-10T18:54:51.039Z"
   },
   {
    "duration": 11,
    "start_time": "2024-05-10T18:54:52.734Z"
   },
   {
    "duration": 4,
    "start_time": "2024-05-10T18:55:15.674Z"
   },
   {
    "duration": 18,
    "start_time": "2024-05-10T18:56:14.524Z"
   },
   {
    "duration": 11,
    "start_time": "2024-05-10T18:56:16.652Z"
   },
   {
    "duration": 18,
    "start_time": "2024-05-10T18:56:18.862Z"
   },
   {
    "duration": 12,
    "start_time": "2024-05-10T18:56:21.434Z"
   },
   {
    "duration": 54,
    "start_time": "2024-05-11T14:12:15.265Z"
   },
   {
    "duration": 50,
    "start_time": "2024-05-11T14:12:27.312Z"
   },
   {
    "duration": 2,
    "start_time": "2024-05-11T14:12:42.073Z"
   },
   {
    "duration": 461,
    "start_time": "2024-05-11T14:19:26.717Z"
   },
   {
    "duration": 527,
    "start_time": "2024-05-11T14:19:27.181Z"
   },
   {
    "duration": 10,
    "start_time": "2024-05-11T14:19:27.710Z"
   },
   {
    "duration": 35,
    "start_time": "2024-05-11T14:19:27.722Z"
   },
   {
    "duration": 7,
    "start_time": "2024-05-11T14:19:27.760Z"
   },
   {
    "duration": 10,
    "start_time": "2024-05-11T14:19:27.769Z"
   },
   {
    "duration": 18,
    "start_time": "2024-05-11T14:19:27.781Z"
   },
   {
    "duration": 27,
    "start_time": "2024-05-11T14:19:27.800Z"
   },
   {
    "duration": 34,
    "start_time": "2024-05-11T14:19:27.829Z"
   },
   {
    "duration": 23,
    "start_time": "2024-05-11T14:19:27.865Z"
   },
   {
    "duration": 38,
    "start_time": "2024-05-11T14:19:27.889Z"
   },
   {
    "duration": 75,
    "start_time": "2024-05-11T14:19:27.928Z"
   },
   {
    "duration": 86,
    "start_time": "2024-05-11T14:19:28.005Z"
   },
   {
    "duration": 70,
    "start_time": "2024-05-11T14:19:28.094Z"
   },
   {
    "duration": 64,
    "start_time": "2024-05-11T14:19:28.165Z"
   },
   {
    "duration": 16,
    "start_time": "2024-05-11T14:19:28.231Z"
   },
   {
    "duration": 54,
    "start_time": "2024-05-11T14:19:28.248Z"
   },
   {
    "duration": 30,
    "start_time": "2024-05-11T14:19:28.304Z"
   },
   {
    "duration": 11,
    "start_time": "2024-05-11T14:19:28.336Z"
   },
   {
    "duration": 8,
    "start_time": "2024-05-11T14:19:28.349Z"
   },
   {
    "duration": 36,
    "start_time": "2024-05-11T14:19:28.358Z"
   },
   {
    "duration": 15,
    "start_time": "2024-05-11T14:19:28.396Z"
   },
   {
    "duration": 30,
    "start_time": "2024-05-11T14:19:28.412Z"
   },
   {
    "duration": 22,
    "start_time": "2024-05-11T14:19:28.443Z"
   },
   {
    "duration": 32,
    "start_time": "2024-05-11T14:19:28.467Z"
   },
   {
    "duration": 35,
    "start_time": "2024-05-11T14:19:28.501Z"
   },
   {
    "duration": 6,
    "start_time": "2024-05-11T14:19:28.538Z"
   },
   {
    "duration": 15,
    "start_time": "2024-05-11T14:19:28.546Z"
   },
   {
    "duration": 21,
    "start_time": "2024-05-11T14:19:28.562Z"
   },
   {
    "duration": 5,
    "start_time": "2024-05-11T14:19:28.585Z"
   },
   {
    "duration": 24,
    "start_time": "2024-05-11T14:19:28.592Z"
   },
   {
    "duration": 29,
    "start_time": "2024-05-11T14:19:28.617Z"
   },
   {
    "duration": 28,
    "start_time": "2024-05-11T14:19:28.647Z"
   },
   {
    "duration": 13,
    "start_time": "2024-05-11T14:19:28.676Z"
   },
   {
    "duration": 51,
    "start_time": "2024-05-11T14:19:28.691Z"
   },
   {
    "duration": 3,
    "start_time": "2024-05-11T14:19:28.743Z"
   },
   {
    "duration": 4,
    "start_time": "2024-05-11T14:19:28.748Z"
   },
   {
    "duration": 4,
    "start_time": "2024-05-11T14:19:28.753Z"
   },
   {
    "duration": 3,
    "start_time": "2024-05-11T15:03:53.625Z"
   },
   {
    "duration": 214,
    "start_time": "2024-05-11T15:03:53.630Z"
   },
   {
    "duration": 11,
    "start_time": "2024-05-11T15:03:53.845Z"
   },
   {
    "duration": 72,
    "start_time": "2024-05-11T15:03:53.858Z"
   },
   {
    "duration": 9,
    "start_time": "2024-05-11T15:03:53.932Z"
   },
   {
    "duration": 33,
    "start_time": "2024-05-11T15:03:53.943Z"
   },
   {
    "duration": 28,
    "start_time": "2024-05-11T15:03:53.978Z"
   },
   {
    "duration": 38,
    "start_time": "2024-05-11T15:03:54.007Z"
   },
   {
    "duration": 49,
    "start_time": "2024-05-11T15:03:54.047Z"
   },
   {
    "duration": 66,
    "start_time": "2024-05-11T15:03:54.098Z"
   },
   {
    "duration": 37,
    "start_time": "2024-05-11T15:03:54.167Z"
   },
   {
    "duration": 68,
    "start_time": "2024-05-11T15:03:54.206Z"
   },
   {
    "duration": 77,
    "start_time": "2024-05-11T15:03:54.275Z"
   },
   {
    "duration": 91,
    "start_time": "2024-05-11T15:03:54.354Z"
   },
   {
    "duration": 106,
    "start_time": "2024-05-11T15:03:54.446Z"
   },
   {
    "duration": 16,
    "start_time": "2024-05-11T15:03:54.554Z"
   },
   {
    "duration": 83,
    "start_time": "2024-05-11T15:03:54.571Z"
   },
   {
    "duration": 14,
    "start_time": "2024-05-11T15:03:54.655Z"
   },
   {
    "duration": 11,
    "start_time": "2024-05-11T15:03:54.671Z"
   },
   {
    "duration": 3,
    "start_time": "2024-05-11T15:03:54.684Z"
   },
   {
    "duration": 48,
    "start_time": "2024-05-11T15:03:54.689Z"
   },
   {
    "duration": 16,
    "start_time": "2024-05-11T15:03:54.738Z"
   },
   {
    "duration": 16,
    "start_time": "2024-05-11T15:03:54.756Z"
   },
   {
    "duration": 18,
    "start_time": "2024-05-11T15:03:54.775Z"
   },
   {
    "duration": 51,
    "start_time": "2024-05-11T15:03:54.795Z"
   },
   {
    "duration": 22,
    "start_time": "2024-05-11T15:03:54.848Z"
   },
   {
    "duration": 14,
    "start_time": "2024-05-11T15:03:54.872Z"
   },
   {
    "duration": 15,
    "start_time": "2024-05-11T15:03:54.888Z"
   },
   {
    "duration": 29,
    "start_time": "2024-05-11T15:03:54.905Z"
   },
   {
    "duration": 4,
    "start_time": "2024-05-11T15:03:54.936Z"
   },
   {
    "duration": 28,
    "start_time": "2024-05-11T15:03:54.942Z"
   },
   {
    "duration": 51,
    "start_time": "2024-05-11T15:03:54.972Z"
   },
   {
    "duration": 36,
    "start_time": "2024-05-11T15:03:55.025Z"
   },
   {
    "duration": 29,
    "start_time": "2024-05-11T15:03:55.063Z"
   },
   {
    "duration": 60,
    "start_time": "2024-05-11T15:03:55.095Z"
   },
   {
    "duration": 3,
    "start_time": "2024-05-11T15:03:55.157Z"
   },
   {
    "duration": 8,
    "start_time": "2024-05-11T15:03:55.162Z"
   },
   {
    "duration": 5,
    "start_time": "2024-05-11T15:03:55.172Z"
   },
   {
    "duration": 54,
    "start_time": "2024-05-11T15:06:13.263Z"
   },
   {
    "duration": 16,
    "start_time": "2024-05-11T15:07:25.822Z"
   },
   {
    "duration": 60,
    "start_time": "2024-05-11T15:09:27.445Z"
   },
   {
    "duration": 57,
    "start_time": "2024-05-11T15:12:14.278Z"
   },
   {
    "duration": 4,
    "start_time": "2024-05-11T15:12:20.758Z"
   },
   {
    "duration": 225,
    "start_time": "2024-05-11T15:12:20.764Z"
   },
   {
    "duration": 11,
    "start_time": "2024-05-11T15:12:20.991Z"
   },
   {
    "duration": 45,
    "start_time": "2024-05-11T15:12:21.004Z"
   },
   {
    "duration": 27,
    "start_time": "2024-05-11T15:12:21.051Z"
   },
   {
    "duration": 23,
    "start_time": "2024-05-11T15:12:21.079Z"
   },
   {
    "duration": 17,
    "start_time": "2024-05-11T15:12:21.103Z"
   },
   {
    "duration": 26,
    "start_time": "2024-05-11T15:12:21.122Z"
   },
   {
    "duration": 35,
    "start_time": "2024-05-11T15:12:21.150Z"
   },
   {
    "duration": 24,
    "start_time": "2024-05-11T15:12:21.187Z"
   },
   {
    "duration": 58,
    "start_time": "2024-05-11T15:12:21.213Z"
   },
   {
    "duration": 84,
    "start_time": "2024-05-11T15:12:21.273Z"
   },
   {
    "duration": 79,
    "start_time": "2024-05-11T15:12:21.359Z"
   },
   {
    "duration": 61,
    "start_time": "2024-05-11T15:12:21.441Z"
   },
   {
    "duration": 65,
    "start_time": "2024-05-11T15:12:21.504Z"
   },
   {
    "duration": 16,
    "start_time": "2024-05-11T15:12:21.571Z"
   },
   {
    "duration": 71,
    "start_time": "2024-05-11T15:12:21.589Z"
   },
   {
    "duration": 14,
    "start_time": "2024-05-11T15:12:21.662Z"
   },
   {
    "duration": 24,
    "start_time": "2024-05-11T15:12:21.678Z"
   },
   {
    "duration": 28,
    "start_time": "2024-05-11T15:12:21.703Z"
   },
   {
    "duration": 39,
    "start_time": "2024-05-11T15:12:21.733Z"
   },
   {
    "duration": 40,
    "start_time": "2024-05-11T15:12:21.773Z"
   },
   {
    "duration": 24,
    "start_time": "2024-05-11T15:12:21.815Z"
   },
   {
    "duration": 47,
    "start_time": "2024-05-11T15:12:21.840Z"
   },
   {
    "duration": 28,
    "start_time": "2024-05-11T15:12:21.888Z"
   },
   {
    "duration": 16,
    "start_time": "2024-05-11T15:12:21.918Z"
   },
   {
    "duration": 15,
    "start_time": "2024-05-11T15:12:21.935Z"
   },
   {
    "duration": 27,
    "start_time": "2024-05-11T15:12:21.952Z"
   },
   {
    "duration": 20,
    "start_time": "2024-05-11T15:12:21.980Z"
   },
   {
    "duration": 10,
    "start_time": "2024-05-11T15:12:22.002Z"
   },
   {
    "duration": 43,
    "start_time": "2024-05-11T15:12:22.014Z"
   },
   {
    "duration": 19,
    "start_time": "2024-05-11T15:12:22.058Z"
   },
   {
    "duration": 20,
    "start_time": "2024-05-11T15:12:22.078Z"
   },
   {
    "duration": 20,
    "start_time": "2024-05-11T15:12:22.099Z"
   },
   {
    "duration": 57,
    "start_time": "2024-05-11T15:12:22.121Z"
   },
   {
    "duration": 12,
    "start_time": "2024-05-11T15:12:22.180Z"
   },
   {
    "duration": 20,
    "start_time": "2024-05-11T15:12:22.194Z"
   },
   {
    "duration": 14,
    "start_time": "2024-05-11T15:12:22.216Z"
   },
   {
    "duration": 3,
    "start_time": "2024-05-11T15:12:35.922Z"
   },
   {
    "duration": 219,
    "start_time": "2024-05-11T15:12:35.927Z"
   },
   {
    "duration": 11,
    "start_time": "2024-05-11T15:12:36.147Z"
   },
   {
    "duration": 33,
    "start_time": "2024-05-11T15:12:36.160Z"
   },
   {
    "duration": 3,
    "start_time": "2024-05-11T15:12:36.195Z"
   },
   {
    "duration": 30,
    "start_time": "2024-05-11T15:12:36.199Z"
   },
   {
    "duration": 6,
    "start_time": "2024-05-11T15:12:36.231Z"
   },
   {
    "duration": 15,
    "start_time": "2024-05-11T15:12:36.239Z"
   },
   {
    "duration": 29,
    "start_time": "2024-05-11T15:12:36.256Z"
   },
   {
    "duration": 19,
    "start_time": "2024-05-11T15:12:36.287Z"
   },
   {
    "duration": 27,
    "start_time": "2024-05-11T15:12:36.330Z"
   },
   {
    "duration": 85,
    "start_time": "2024-05-11T15:12:36.359Z"
   },
   {
    "duration": 84,
    "start_time": "2024-05-11T15:12:36.446Z"
   },
   {
    "duration": 73,
    "start_time": "2024-05-11T15:12:36.533Z"
   },
   {
    "duration": 70,
    "start_time": "2024-05-11T15:12:36.608Z"
   },
   {
    "duration": 18,
    "start_time": "2024-05-11T15:12:36.680Z"
   },
   {
    "duration": 75,
    "start_time": "2024-05-11T15:12:36.699Z"
   },
   {
    "duration": 13,
    "start_time": "2024-05-11T15:12:36.776Z"
   },
   {
    "duration": 20,
    "start_time": "2024-05-11T15:12:36.791Z"
   },
   {
    "duration": 3,
    "start_time": "2024-05-11T15:12:36.830Z"
   },
   {
    "duration": 27,
    "start_time": "2024-05-11T15:12:36.835Z"
   },
   {
    "duration": 14,
    "start_time": "2024-05-11T15:12:36.864Z"
   },
   {
    "duration": 20,
    "start_time": "2024-05-11T15:12:36.880Z"
   },
   {
    "duration": 33,
    "start_time": "2024-05-11T15:12:36.902Z"
   },
   {
    "duration": 17,
    "start_time": "2024-05-11T15:12:36.937Z"
   },
   {
    "duration": 15,
    "start_time": "2024-05-11T15:12:36.955Z"
   },
   {
    "duration": 11,
    "start_time": "2024-05-11T15:12:36.972Z"
   },
   {
    "duration": 24,
    "start_time": "2024-05-11T15:12:36.984Z"
   },
   {
    "duration": 23,
    "start_time": "2024-05-11T15:12:37.010Z"
   },
   {
    "duration": 5,
    "start_time": "2024-05-11T15:12:37.035Z"
   },
   {
    "duration": 22,
    "start_time": "2024-05-11T15:12:37.042Z"
   },
   {
    "duration": 12,
    "start_time": "2024-05-11T15:12:37.065Z"
   },
   {
    "duration": 21,
    "start_time": "2024-05-11T15:12:37.079Z"
   },
   {
    "duration": 36,
    "start_time": "2024-05-11T15:12:37.102Z"
   },
   {
    "duration": 55,
    "start_time": "2024-05-11T15:12:37.139Z"
   },
   {
    "duration": 10,
    "start_time": "2024-05-11T15:12:37.196Z"
   },
   {
    "duration": 10,
    "start_time": "2024-05-11T15:12:37.207Z"
   },
   {
    "duration": 7,
    "start_time": "2024-05-11T15:12:37.229Z"
   },
   {
    "duration": 87,
    "start_time": "2024-05-11T15:16:26.978Z"
   },
   {
    "duration": 2,
    "start_time": "2024-05-11T15:17:49.711Z"
   },
   {
    "duration": 2,
    "start_time": "2024-05-11T15:17:52.704Z"
   },
   {
    "duration": 3,
    "start_time": "2024-05-11T15:18:39.744Z"
   },
   {
    "duration": 201,
    "start_time": "2024-05-11T15:18:39.750Z"
   },
   {
    "duration": 12,
    "start_time": "2024-05-11T15:18:39.952Z"
   },
   {
    "duration": 35,
    "start_time": "2024-05-11T15:18:39.966Z"
   },
   {
    "duration": 2,
    "start_time": "2024-05-11T15:18:40.004Z"
   },
   {
    "duration": 28,
    "start_time": "2024-05-11T15:18:40.008Z"
   },
   {
    "duration": 24,
    "start_time": "2024-05-11T15:18:40.038Z"
   },
   {
    "duration": 30,
    "start_time": "2024-05-11T15:18:40.064Z"
   },
   {
    "duration": 40,
    "start_time": "2024-05-11T15:18:40.095Z"
   },
   {
    "duration": 40,
    "start_time": "2024-05-11T15:18:40.137Z"
   },
   {
    "duration": 33,
    "start_time": "2024-05-11T15:18:40.179Z"
   },
   {
    "duration": 83,
    "start_time": "2024-05-11T15:18:40.213Z"
   },
   {
    "duration": 71,
    "start_time": "2024-05-11T15:18:40.298Z"
   },
   {
    "duration": 73,
    "start_time": "2024-05-11T15:18:40.372Z"
   },
   {
    "duration": 56,
    "start_time": "2024-05-11T15:18:40.447Z"
   },
   {
    "duration": 32,
    "start_time": "2024-05-11T15:18:40.505Z"
   },
   {
    "duration": 57,
    "start_time": "2024-05-11T15:18:40.539Z"
   },
   {
    "duration": 12,
    "start_time": "2024-05-11T15:18:40.597Z"
   },
   {
    "duration": 11,
    "start_time": "2024-05-11T15:18:40.629Z"
   },
   {
    "duration": 8,
    "start_time": "2024-05-11T15:18:40.641Z"
   },
   {
    "duration": 26,
    "start_time": "2024-05-11T15:18:40.650Z"
   },
   {
    "duration": 17,
    "start_time": "2024-05-11T15:18:40.678Z"
   },
   {
    "duration": 35,
    "start_time": "2024-05-11T15:18:40.697Z"
   },
   {
    "duration": 19,
    "start_time": "2024-05-11T15:18:40.734Z"
   },
   {
    "duration": 24,
    "start_time": "2024-05-11T15:18:40.754Z"
   },
   {
    "duration": 16,
    "start_time": "2024-05-11T15:18:40.780Z"
   },
   {
    "duration": 31,
    "start_time": "2024-05-11T15:18:40.798Z"
   },
   {
    "duration": 23,
    "start_time": "2024-05-11T15:18:40.831Z"
   },
   {
    "duration": 19,
    "start_time": "2024-05-11T15:18:40.856Z"
   },
   {
    "duration": 27,
    "start_time": "2024-05-11T15:18:40.877Z"
   },
   {
    "duration": 20,
    "start_time": "2024-05-11T15:18:40.906Z"
   },
   {
    "duration": 12,
    "start_time": "2024-05-11T15:18:40.927Z"
   },
   {
    "duration": 18,
    "start_time": "2024-05-11T15:18:40.941Z"
   },
   {
    "duration": 12,
    "start_time": "2024-05-11T15:18:40.961Z"
   },
   {
    "duration": 2,
    "start_time": "2024-05-11T15:18:40.975Z"
   },
   {
    "duration": 16,
    "start_time": "2024-05-11T15:18:40.979Z"
   },
   {
    "duration": 6,
    "start_time": "2024-05-11T15:18:40.997Z"
   },
   {
    "duration": 4,
    "start_time": "2024-05-11T15:18:41.004Z"
   },
   {
    "duration": 57,
    "start_time": "2024-05-11T15:23:16.342Z"
   },
   {
    "duration": 55,
    "start_time": "2024-05-11T15:23:22.380Z"
   },
   {
    "duration": 3,
    "start_time": "2024-05-11T15:23:33.027Z"
   },
   {
    "duration": 261,
    "start_time": "2024-05-11T15:23:33.033Z"
   },
   {
    "duration": 12,
    "start_time": "2024-05-11T15:23:33.296Z"
   },
   {
    "duration": 57,
    "start_time": "2024-05-11T15:23:33.309Z"
   },
   {
    "duration": 3,
    "start_time": "2024-05-11T15:23:33.369Z"
   },
   {
    "duration": 11,
    "start_time": "2024-05-11T15:23:33.374Z"
   },
   {
    "duration": 20,
    "start_time": "2024-05-11T15:23:33.386Z"
   },
   {
    "duration": 27,
    "start_time": "2024-05-11T15:23:33.408Z"
   },
   {
    "duration": 38,
    "start_time": "2024-05-11T15:23:33.437Z"
   },
   {
    "duration": 23,
    "start_time": "2024-05-11T15:23:33.478Z"
   },
   {
    "duration": 66,
    "start_time": "2024-05-11T15:23:33.503Z"
   },
   {
    "duration": 107,
    "start_time": "2024-05-11T15:23:33.571Z"
   },
   {
    "duration": 102,
    "start_time": "2024-05-11T15:23:33.680Z"
   },
   {
    "duration": 69,
    "start_time": "2024-05-11T15:23:33.786Z"
   },
   {
    "duration": 76,
    "start_time": "2024-05-11T15:23:33.857Z"
   },
   {
    "duration": 16,
    "start_time": "2024-05-11T15:23:33.935Z"
   },
   {
    "duration": 55,
    "start_time": "2024-05-11T15:23:33.953Z"
   },
   {
    "duration": 27,
    "start_time": "2024-05-11T15:23:34.009Z"
   },
   {
    "duration": 14,
    "start_time": "2024-05-11T15:23:34.037Z"
   },
   {
    "duration": 4,
    "start_time": "2024-05-11T15:23:34.054Z"
   },
   {
    "duration": 25,
    "start_time": "2024-05-11T15:23:34.060Z"
   },
   {
    "duration": 43,
    "start_time": "2024-05-11T15:23:34.087Z"
   },
   {
    "duration": 18,
    "start_time": "2024-05-11T15:23:34.132Z"
   },
   {
    "duration": 17,
    "start_time": "2024-05-11T15:23:34.152Z"
   },
   {
    "duration": 19,
    "start_time": "2024-05-11T15:23:34.170Z"
   },
   {
    "duration": 50,
    "start_time": "2024-05-11T15:23:34.191Z"
   },
   {
    "duration": 6,
    "start_time": "2024-05-11T15:23:34.243Z"
   },
   {
    "duration": 30,
    "start_time": "2024-05-11T15:23:34.251Z"
   },
   {
    "duration": 17,
    "start_time": "2024-05-11T15:23:34.282Z"
   },
   {
    "duration": 4,
    "start_time": "2024-05-11T15:23:34.300Z"
   },
   {
    "duration": 34,
    "start_time": "2024-05-11T15:23:34.306Z"
   },
   {
    "duration": 15,
    "start_time": "2024-05-11T15:23:34.341Z"
   },
   {
    "duration": 29,
    "start_time": "2024-05-11T15:23:34.358Z"
   },
   {
    "duration": 18,
    "start_time": "2024-05-11T15:23:34.390Z"
   },
   {
    "duration": 88,
    "start_time": "2024-05-11T15:23:34.411Z"
   },
   {
    "duration": 3,
    "start_time": "2024-05-11T15:23:34.501Z"
   },
   {
    "duration": 5,
    "start_time": "2024-05-11T15:23:34.505Z"
   },
   {
    "duration": 18,
    "start_time": "2024-05-11T15:23:34.512Z"
   },
   {
    "duration": 27,
    "start_time": "2024-05-11T15:24:56.197Z"
   },
   {
    "duration": 11,
    "start_time": "2024-05-11T15:25:07.372Z"
   },
   {
    "duration": 16,
    "start_time": "2024-05-11T15:25:18.030Z"
   },
   {
    "duration": 389,
    "start_time": "2024-05-11T15:28:32.276Z"
   },
   {
    "duration": 208,
    "start_time": "2024-05-11T15:28:32.667Z"
   },
   {
    "duration": 10,
    "start_time": "2024-05-11T15:28:32.877Z"
   },
   {
    "duration": 47,
    "start_time": "2024-05-11T15:28:32.889Z"
   },
   {
    "duration": 11,
    "start_time": "2024-05-11T15:28:32.938Z"
   },
   {
    "duration": 29,
    "start_time": "2024-05-11T15:28:32.951Z"
   },
   {
    "duration": 23,
    "start_time": "2024-05-11T15:28:32.981Z"
   },
   {
    "duration": 14,
    "start_time": "2024-05-11T15:28:33.006Z"
   },
   {
    "duration": 36,
    "start_time": "2024-05-11T15:28:33.022Z"
   },
   {
    "duration": 27,
    "start_time": "2024-05-11T15:28:33.060Z"
   },
   {
    "duration": 28,
    "start_time": "2024-05-11T15:28:33.089Z"
   },
   {
    "duration": 105,
    "start_time": "2024-05-11T15:28:33.119Z"
   },
   {
    "duration": 90,
    "start_time": "2024-05-11T15:28:33.226Z"
   },
   {
    "duration": 85,
    "start_time": "2024-05-11T15:28:33.318Z"
   },
   {
    "duration": 69,
    "start_time": "2024-05-11T15:28:33.404Z"
   },
   {
    "duration": 17,
    "start_time": "2024-05-11T15:28:33.475Z"
   },
   {
    "duration": 72,
    "start_time": "2024-05-11T15:28:33.494Z"
   },
   {
    "duration": 12,
    "start_time": "2024-05-11T15:28:33.568Z"
   },
   {
    "duration": 12,
    "start_time": "2024-05-11T15:28:33.581Z"
   },
   {
    "duration": 3,
    "start_time": "2024-05-11T15:28:33.595Z"
   },
   {
    "duration": 41,
    "start_time": "2024-05-11T15:28:33.600Z"
   },
   {
    "duration": 41,
    "start_time": "2024-05-11T15:28:33.642Z"
   },
   {
    "duration": 48,
    "start_time": "2024-05-11T15:28:33.685Z"
   },
   {
    "duration": 22,
    "start_time": "2024-05-11T15:28:33.735Z"
   },
   {
    "duration": 22,
    "start_time": "2024-05-11T15:28:33.759Z"
   },
   {
    "duration": 17,
    "start_time": "2024-05-11T15:28:33.783Z"
   },
   {
    "duration": 27,
    "start_time": "2024-05-11T15:28:33.802Z"
   },
   {
    "duration": 11,
    "start_time": "2024-05-11T15:28:33.832Z"
   },
   {
    "duration": 12,
    "start_time": "2024-05-11T15:28:33.845Z"
   },
   {
    "duration": 4,
    "start_time": "2024-05-11T15:28:33.859Z"
   },
   {
    "duration": 32,
    "start_time": "2024-05-11T15:28:33.864Z"
   },
   {
    "duration": 12,
    "start_time": "2024-05-11T15:28:33.897Z"
   },
   {
    "duration": 35,
    "start_time": "2024-05-11T15:28:33.910Z"
   },
   {
    "duration": 12,
    "start_time": "2024-05-11T15:28:33.947Z"
   },
   {
    "duration": 4,
    "start_time": "2024-05-11T15:28:33.961Z"
   },
   {
    "duration": 19,
    "start_time": "2024-05-11T15:28:33.967Z"
   },
   {
    "duration": 5,
    "start_time": "2024-05-11T15:28:33.988Z"
   },
   {
    "duration": 13,
    "start_time": "2024-05-11T15:28:33.995Z"
   },
   {
    "duration": 40,
    "start_time": "2024-05-11T15:31:39.912Z"
   },
   {
    "duration": 390,
    "start_time": "2024-05-11T16:02:09.383Z"
   },
   {
    "duration": 216,
    "start_time": "2024-05-11T16:02:09.775Z"
   },
   {
    "duration": 11,
    "start_time": "2024-05-11T16:02:09.992Z"
   },
   {
    "duration": 48,
    "start_time": "2024-05-11T16:02:10.004Z"
   },
   {
    "duration": 18,
    "start_time": "2024-05-11T16:02:10.054Z"
   },
   {
    "duration": 10,
    "start_time": "2024-05-11T16:02:10.074Z"
   },
   {
    "duration": 44,
    "start_time": "2024-05-11T16:02:10.086Z"
   },
   {
    "duration": 48,
    "start_time": "2024-05-11T16:02:10.132Z"
   },
   {
    "duration": 37,
    "start_time": "2024-05-11T16:02:10.181Z"
   },
   {
    "duration": 42,
    "start_time": "2024-05-11T16:02:10.220Z"
   },
   {
    "duration": 26,
    "start_time": "2024-05-11T16:02:10.264Z"
   },
   {
    "duration": 73,
    "start_time": "2024-05-11T16:02:10.292Z"
   },
   {
    "duration": 85,
    "start_time": "2024-05-11T16:02:10.367Z"
   },
   {
    "duration": 73,
    "start_time": "2024-05-11T16:02:10.456Z"
   },
   {
    "duration": 54,
    "start_time": "2024-05-11T16:02:10.531Z"
   },
   {
    "duration": 16,
    "start_time": "2024-05-11T16:02:10.587Z"
   },
   {
    "duration": 77,
    "start_time": "2024-05-11T16:02:10.605Z"
   },
   {
    "duration": 12,
    "start_time": "2024-05-11T16:02:10.684Z"
   },
   {
    "duration": 32,
    "start_time": "2024-05-11T16:02:10.698Z"
   },
   {
    "duration": 4,
    "start_time": "2024-05-11T16:02:10.732Z"
   },
   {
    "duration": 35,
    "start_time": "2024-05-11T16:02:10.738Z"
   },
   {
    "duration": 23,
    "start_time": "2024-05-11T16:02:10.776Z"
   },
   {
    "duration": 40,
    "start_time": "2024-05-11T16:02:10.802Z"
   },
   {
    "duration": 15,
    "start_time": "2024-05-11T16:02:10.844Z"
   },
   {
    "duration": 23,
    "start_time": "2024-05-11T16:02:10.861Z"
   },
   {
    "duration": 17,
    "start_time": "2024-05-11T16:02:10.886Z"
   },
   {
    "duration": 29,
    "start_time": "2024-05-11T16:02:10.905Z"
   },
   {
    "duration": 52,
    "start_time": "2024-05-11T16:02:10.936Z"
   },
   {
    "duration": 12,
    "start_time": "2024-05-11T16:02:10.990Z"
   },
   {
    "duration": 5,
    "start_time": "2024-05-11T16:02:11.004Z"
   },
   {
    "duration": 22,
    "start_time": "2024-05-11T16:02:11.010Z"
   },
   {
    "duration": 20,
    "start_time": "2024-05-11T16:02:11.033Z"
   },
   {
    "duration": 20,
    "start_time": "2024-05-11T16:02:11.055Z"
   },
   {
    "duration": 15,
    "start_time": "2024-05-11T16:02:11.077Z"
   },
   {
    "duration": 3,
    "start_time": "2024-05-11T16:02:11.093Z"
   },
   {
    "duration": 5,
    "start_time": "2024-05-11T16:02:11.097Z"
   },
   {
    "duration": 31,
    "start_time": "2024-05-11T16:02:11.103Z"
   },
   {
    "duration": 12,
    "start_time": "2024-05-11T16:02:11.136Z"
   },
   {
    "duration": 55,
    "start_time": "2024-05-11T16:04:30.614Z"
   },
   {
    "duration": 12,
    "start_time": "2024-05-11T16:15:59.435Z"
   },
   {
    "duration": 11,
    "start_time": "2024-05-11T16:16:01.993Z"
   },
   {
    "duration": 6,
    "start_time": "2024-05-11T16:16:06.017Z"
   },
   {
    "duration": 5,
    "start_time": "2024-05-11T16:16:07.402Z"
   },
   {
    "duration": 5,
    "start_time": "2024-05-11T16:17:10.506Z"
   },
   {
    "duration": 3,
    "start_time": "2024-05-11T16:20:40.523Z"
   },
   {
    "duration": 241,
    "start_time": "2024-05-11T16:20:40.528Z"
   },
   {
    "duration": 11,
    "start_time": "2024-05-11T16:20:40.771Z"
   },
   {
    "duration": 48,
    "start_time": "2024-05-11T16:20:40.784Z"
   },
   {
    "duration": 2,
    "start_time": "2024-05-11T16:20:40.834Z"
   },
   {
    "duration": 11,
    "start_time": "2024-05-11T16:20:40.838Z"
   },
   {
    "duration": 10,
    "start_time": "2024-05-11T16:20:40.851Z"
   },
   {
    "duration": 12,
    "start_time": "2024-05-11T16:20:40.863Z"
   },
   {
    "duration": 29,
    "start_time": "2024-05-11T16:20:40.876Z"
   },
   {
    "duration": 39,
    "start_time": "2024-05-11T16:20:40.907Z"
   },
   {
    "duration": 26,
    "start_time": "2024-05-11T16:20:40.948Z"
   },
   {
    "duration": 85,
    "start_time": "2024-05-11T16:20:40.975Z"
   },
   {
    "duration": 90,
    "start_time": "2024-05-11T16:20:41.062Z"
   },
   {
    "duration": 61,
    "start_time": "2024-05-11T16:20:41.154Z"
   },
   {
    "duration": 64,
    "start_time": "2024-05-11T16:20:41.217Z"
   },
   {
    "duration": 16,
    "start_time": "2024-05-11T16:20:41.283Z"
   },
   {
    "duration": 71,
    "start_time": "2024-05-11T16:20:41.301Z"
   },
   {
    "duration": 12,
    "start_time": "2024-05-11T16:20:41.373Z"
   },
   {
    "duration": 12,
    "start_time": "2024-05-11T16:20:41.387Z"
   },
   {
    "duration": 3,
    "start_time": "2024-05-11T16:20:41.400Z"
   },
   {
    "duration": 37,
    "start_time": "2024-05-11T16:20:41.405Z"
   },
   {
    "duration": 19,
    "start_time": "2024-05-11T16:20:41.443Z"
   },
   {
    "duration": 15,
    "start_time": "2024-05-11T16:20:41.464Z"
   },
   {
    "duration": 15,
    "start_time": "2024-05-11T16:20:41.481Z"
   },
   {
    "duration": 47,
    "start_time": "2024-05-11T16:20:41.497Z"
   },
   {
    "duration": 25,
    "start_time": "2024-05-11T16:20:41.545Z"
   },
   {
    "duration": 9,
    "start_time": "2024-05-11T16:20:41.573Z"
   },
   {
    "duration": 51,
    "start_time": "2024-05-11T16:20:41.584Z"
   },
   {
    "duration": 11,
    "start_time": "2024-05-11T16:20:41.639Z"
   },
   {
    "duration": 5,
    "start_time": "2024-05-11T16:20:41.651Z"
   },
   {
    "duration": 33,
    "start_time": "2024-05-11T16:20:41.657Z"
   },
   {
    "duration": 13,
    "start_time": "2024-05-11T16:20:41.692Z"
   },
   {
    "duration": 37,
    "start_time": "2024-05-11T16:20:41.706Z"
   },
   {
    "duration": 13,
    "start_time": "2024-05-11T16:20:41.744Z"
   },
   {
    "duration": 10,
    "start_time": "2024-05-11T16:20:41.759Z"
   },
   {
    "duration": 5,
    "start_time": "2024-05-11T16:20:41.771Z"
   },
   {
    "duration": 14,
    "start_time": "2024-05-11T16:20:41.777Z"
   },
   {
    "duration": 37,
    "start_time": "2024-05-11T16:20:41.793Z"
   },
   {
    "duration": 8,
    "start_time": "2024-05-25T03:36:07.592Z"
   },
   {
    "duration": 64,
    "start_time": "2025-02-04T15:31:33.607Z"
   },
   {
    "duration": 411,
    "start_time": "2025-02-04T15:32:14.617Z"
   },
   {
    "duration": 195,
    "start_time": "2025-02-04T15:32:15.030Z"
   },
   {
    "duration": 11,
    "start_time": "2025-02-04T15:32:15.226Z"
   },
   {
    "duration": 209,
    "start_time": "2025-02-04T15:32:15.239Z"
   },
   {
    "duration": 3,
    "start_time": "2025-02-04T15:32:15.449Z"
   },
   {
    "duration": 17,
    "start_time": "2025-02-04T15:32:15.454Z"
   },
   {
    "duration": 34,
    "start_time": "2025-02-04T15:32:15.472Z"
   },
   {
    "duration": 31,
    "start_time": "2025-02-04T15:32:15.508Z"
   },
   {
    "duration": 47,
    "start_time": "2025-02-04T15:32:15.541Z"
   },
   {
    "duration": 38,
    "start_time": "2025-02-04T15:32:15.592Z"
   },
   {
    "duration": 32,
    "start_time": "2025-02-04T15:32:15.632Z"
   },
   {
    "duration": 84,
    "start_time": "2025-02-04T15:32:15.666Z"
   },
   {
    "duration": 83,
    "start_time": "2025-02-04T15:32:15.751Z"
   },
   {
    "duration": 67,
    "start_time": "2025-02-04T15:32:15.836Z"
   },
   {
    "duration": 52,
    "start_time": "2025-02-04T15:32:15.905Z"
   },
   {
    "duration": 72,
    "start_time": "2025-02-04T15:32:15.958Z"
   },
   {
    "duration": 56,
    "start_time": "2025-02-04T15:32:16.032Z"
   },
   {
    "duration": 11,
    "start_time": "2025-02-04T15:32:16.090Z"
   },
   {
    "duration": 11,
    "start_time": "2025-02-04T15:32:16.103Z"
   },
   {
    "duration": 4,
    "start_time": "2025-02-04T15:32:16.115Z"
   },
   {
    "duration": 35,
    "start_time": "2025-02-04T15:32:16.121Z"
   },
   {
    "duration": 14,
    "start_time": "2025-02-04T15:32:16.157Z"
   },
   {
    "duration": 38,
    "start_time": "2025-02-04T15:32:16.172Z"
   },
   {
    "duration": 15,
    "start_time": "2025-02-04T15:32:16.212Z"
   },
   {
    "duration": 17,
    "start_time": "2025-02-04T15:32:16.229Z"
   },
   {
    "duration": 22,
    "start_time": "2025-02-04T15:32:16.248Z"
   },
   {
    "duration": 33,
    "start_time": "2025-02-04T15:32:16.271Z"
   },
   {
    "duration": 27,
    "start_time": "2025-02-04T15:32:16.307Z"
   },
   {
    "duration": 19,
    "start_time": "2025-02-04T15:32:16.336Z"
   },
   {
    "duration": 4,
    "start_time": "2025-02-04T15:32:16.357Z"
   },
   {
    "duration": 19,
    "start_time": "2025-02-04T15:32:16.362Z"
   },
   {
    "duration": 21,
    "start_time": "2025-02-04T15:32:16.382Z"
   },
   {
    "duration": 18,
    "start_time": "2025-02-04T15:32:16.405Z"
   },
   {
    "duration": 17,
    "start_time": "2025-02-04T15:32:16.425Z"
   },
   {
    "duration": 13,
    "start_time": "2025-02-04T15:32:16.444Z"
   },
   {
    "duration": 50,
    "start_time": "2025-02-04T15:32:16.459Z"
   },
   {
    "duration": 12,
    "start_time": "2025-02-04T15:32:16.512Z"
   },
   {
    "duration": 18,
    "start_time": "2025-02-04T15:32:16.526Z"
   },
   {
    "duration": 3,
    "start_time": "2025-02-04T15:33:57.448Z"
   },
   {
    "duration": 187,
    "start_time": "2025-02-04T15:33:57.452Z"
   },
   {
    "duration": 10,
    "start_time": "2025-02-04T15:33:57.641Z"
   },
   {
    "duration": 31,
    "start_time": "2025-02-04T15:33:57.652Z"
   },
   {
    "duration": 36,
    "start_time": "2025-02-04T15:33:57.684Z"
   },
   {
    "duration": 13,
    "start_time": "2025-02-04T15:33:57.722Z"
   },
   {
    "duration": 13,
    "start_time": "2025-02-04T15:33:57.737Z"
   },
   {
    "duration": 29,
    "start_time": "2025-02-04T15:33:57.751Z"
   },
   {
    "duration": 33,
    "start_time": "2025-02-04T15:33:57.781Z"
   },
   {
    "duration": 71,
    "start_time": "2025-02-04T15:33:57.816Z"
   },
   {
    "duration": 64,
    "start_time": "2025-02-04T15:33:57.889Z"
   },
   {
    "duration": 72,
    "start_time": "2025-02-04T15:33:57.954Z"
   },
   {
    "duration": 55,
    "start_time": "2025-02-04T15:33:58.028Z"
   },
   {
    "duration": 64,
    "start_time": "2025-02-04T15:33:58.084Z"
   },
   {
    "duration": 15,
    "start_time": "2025-02-04T15:33:58.150Z"
   },
   {
    "duration": 67,
    "start_time": "2025-02-04T15:33:58.166Z"
   },
   {
    "duration": 11,
    "start_time": "2025-02-04T15:33:58.235Z"
   },
   {
    "duration": 11,
    "start_time": "2025-02-04T15:33:58.247Z"
   },
   {
    "duration": 3,
    "start_time": "2025-02-04T15:33:58.259Z"
   },
   {
    "duration": 43,
    "start_time": "2025-02-04T15:33:58.263Z"
   },
   {
    "duration": 14,
    "start_time": "2025-02-04T15:33:58.308Z"
   },
   {
    "duration": 14,
    "start_time": "2025-02-04T15:33:58.324Z"
   },
   {
    "duration": 13,
    "start_time": "2025-02-04T15:33:58.340Z"
   },
   {
    "duration": 45,
    "start_time": "2025-02-04T15:33:58.355Z"
   },
   {
    "duration": 14,
    "start_time": "2025-02-04T15:33:58.402Z"
   },
   {
    "duration": 7,
    "start_time": "2025-02-04T15:33:58.417Z"
   },
   {
    "duration": 19,
    "start_time": "2025-02-04T15:33:58.425Z"
   },
   {
    "duration": 9,
    "start_time": "2025-02-04T15:33:58.445Z"
   },
   {
    "duration": 4,
    "start_time": "2025-02-04T15:33:58.457Z"
   },
   {
    "duration": 38,
    "start_time": "2025-02-04T15:33:58.462Z"
   },
   {
    "duration": 9,
    "start_time": "2025-02-04T15:33:58.502Z"
   },
   {
    "duration": 18,
    "start_time": "2025-02-04T15:33:58.512Z"
   },
   {
    "duration": 12,
    "start_time": "2025-02-04T15:33:58.532Z"
   },
   {
    "duration": 8,
    "start_time": "2025-02-04T15:33:58.546Z"
   },
   {
    "duration": 9,
    "start_time": "2025-02-04T15:33:58.556Z"
   },
   {
    "duration": 33,
    "start_time": "2025-02-04T15:33:58.567Z"
   },
   {
    "duration": 6,
    "start_time": "2025-02-04T15:33:58.602Z"
   },
   {
    "duration": 20,
    "start_time": "2025-02-04T15:34:26.294Z"
   }
  ],
  "celltoolbar": "Отсутствует",
  "colab": {
   "collapsed_sections": [
    "E0vqbgi9ay0H",
    "VUC88oWjTJw2"
   ],
   "provenance": []
  },
  "kernelspec": {
   "display_name": "Python 3 (ipykernel)",
   "language": "python",
   "name": "python3"
  },
  "language_info": {
   "codemirror_mode": {
    "name": "ipython",
    "version": 3
   },
   "file_extension": ".py",
   "mimetype": "text/x-python",
   "name": "python",
   "nbconvert_exporter": "python",
   "pygments_lexer": "ipython3",
   "version": "3.9.5"
  },
  "toc": {
   "base_numbering": 1,
   "nav_menu": {
    "height": "215px",
    "width": "403px"
   },
   "number_sections": true,
   "sideBar": true,
   "skip_h1_title": true,
   "title_cell": "Table of Contents",
   "title_sidebar": "Contents",
   "toc_cell": false,
   "toc_position": {
    "height": "calc(100% - 180px)",
    "left": "10px",
    "top": "150px",
    "width": "285.825px"
   },
   "toc_section_display": true,
   "toc_window_display": false
  }
 },
 "nbformat": 4,
 "nbformat_minor": 1
}
